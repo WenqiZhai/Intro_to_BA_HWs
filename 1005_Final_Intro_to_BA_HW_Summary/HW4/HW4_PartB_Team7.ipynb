{
  "nbformat": 4,
  "nbformat_minor": 0,
  "metadata": {
    "colab": {
      "provenance": [],
      "collapsed_sections": []
    },
    "kernelspec": {
      "name": "python3",
      "display_name": "Python 3"
    },
    "language_info": {
      "name": "python"
    }
  },
  "cells": [
    {
      "cell_type": "markdown",
      "source": [
        "#load libraries and modules\n"
      ],
      "metadata": {
        "id": "6OwUi7qRSXu8"
      }
    },
    {
      "cell_type": "code",
      "source": [
        "import pandas as pd\n",
        "import numpy as np\n",
        "import matplotlib.pyplot as plt\n",
        "import seaborn as sns \n",
        "import pandas as pd\n",
        "from sklearn.model_selection import train_test_split # splits arrays or matrices into random train and test subsets\n"
      ],
      "metadata": {
        "id": "kdCDJ2rCPO0p"
      },
      "execution_count": 2,
      "outputs": []
    },
    {
      "cell_type": "markdown",
      "source": [
        "# a. Implementing EDA and Baseline Models"
      ],
      "metadata": {
        "id": "O5Nd7ds-k6BW"
      }
    },
    {
      "cell_type": "markdown",
      "source": [
        "###EDA"
      ],
      "metadata": {
        "id": "H0aJmdq3ScbV"
      }
    },
    {
      "cell_type": "code",
      "source": [
        "df = pd.read_excel(\"./HW4.xlsx\", sheet_name=0, header=0)\n",
        "df.head(10)"
      ],
      "metadata": {
        "colab": {
          "base_uri": "https://localhost:8080/",
          "height": 473
        },
        "id": "0s3GFu3vPSmb",
        "outputId": "79b11297-c3ae-4454-9022-939758c0e539"
      },
      "execution_count": 3,
      "outputs": [
        {
          "output_type": "execute_result",
          "data": {
            "text/plain": [
              "   sequence_number  US  source_a  source_c  source_b  source_d  source_e  \\\n",
              "0                1   1         0         0         1         0         0   \n",
              "1                2   1         0         0         0         0         1   \n",
              "2                3   1         0         0         0         0         0   \n",
              "3                4   1         0         1         0         0         0   \n",
              "4                5   1         0         1         0         0         0   \n",
              "5                6   1         0         0         0         0         0   \n",
              "6                7   1         0         0         0         0         0   \n",
              "7                8   1         0         0         1         0         0   \n",
              "8                9   1         1         0         0         0         0   \n",
              "9               10   1         1         0         0         0         0   \n",
              "\n",
              "   source_m  source_o  source_h  ...  source_x  source_w  Freq  \\\n",
              "0         0         0         0  ...         0         0     2   \n",
              "1         0         0         0  ...         0         0     0   \n",
              "2         0         0         0  ...         0         0     2   \n",
              "3         0         0         0  ...         0         0     1   \n",
              "4         0         0         0  ...         0         0     1   \n",
              "5         0         0         0  ...         0         0     1   \n",
              "6         0         0         0  ...         0         1     2   \n",
              "7         0         0         0  ...         0         0     1   \n",
              "8         0         0         0  ...         0         0     4   \n",
              "9         0         0         0  ...         0         0     1   \n",
              "\n",
              "   last_update_days_ago  1st_update_days_ago  Web order  Gender=male  \\\n",
              "0                  3662                 3662          1            0   \n",
              "1                  2900                 2900          1            1   \n",
              "2                  3883                 3914          0            0   \n",
              "3                   829                  829          0            1   \n",
              "4                   869                  869          0            0   \n",
              "5                  1995                 2002          0            0   \n",
              "6                  1498                 1529          0            0   \n",
              "7                  3397                 3397          0            1   \n",
              "8                   525                 2914          1            1   \n",
              "9                  3215                 3215          0            0   \n",
              "\n",
              "   Address_is_res  Purchase  Spending  \n",
              "0               1         1    127.87  \n",
              "1               0         0      0.00  \n",
              "2               0         1    127.48  \n",
              "3               0         0      0.00  \n",
              "4               0         0      0.00  \n",
              "5               1         0      0.06  \n",
              "6               1         0      0.06  \n",
              "7               0         0      0.08  \n",
              "8               0         1    488.50  \n",
              "9               0         1    173.50  \n",
              "\n",
              "[10 rows x 25 columns]"
            ],
            "text/html": [
              "\n",
              "  <div id=\"df-d2889ae8-0082-4d91-8c9e-55ca22e2dc2f\">\n",
              "    <div class=\"colab-df-container\">\n",
              "      <div>\n",
              "<style scoped>\n",
              "    .dataframe tbody tr th:only-of-type {\n",
              "        vertical-align: middle;\n",
              "    }\n",
              "\n",
              "    .dataframe tbody tr th {\n",
              "        vertical-align: top;\n",
              "    }\n",
              "\n",
              "    .dataframe thead th {\n",
              "        text-align: right;\n",
              "    }\n",
              "</style>\n",
              "<table border=\"1\" class=\"dataframe\">\n",
              "  <thead>\n",
              "    <tr style=\"text-align: right;\">\n",
              "      <th></th>\n",
              "      <th>sequence_number</th>\n",
              "      <th>US</th>\n",
              "      <th>source_a</th>\n",
              "      <th>source_c</th>\n",
              "      <th>source_b</th>\n",
              "      <th>source_d</th>\n",
              "      <th>source_e</th>\n",
              "      <th>source_m</th>\n",
              "      <th>source_o</th>\n",
              "      <th>source_h</th>\n",
              "      <th>...</th>\n",
              "      <th>source_x</th>\n",
              "      <th>source_w</th>\n",
              "      <th>Freq</th>\n",
              "      <th>last_update_days_ago</th>\n",
              "      <th>1st_update_days_ago</th>\n",
              "      <th>Web order</th>\n",
              "      <th>Gender=male</th>\n",
              "      <th>Address_is_res</th>\n",
              "      <th>Purchase</th>\n",
              "      <th>Spending</th>\n",
              "    </tr>\n",
              "  </thead>\n",
              "  <tbody>\n",
              "    <tr>\n",
              "      <th>0</th>\n",
              "      <td>1</td>\n",
              "      <td>1</td>\n",
              "      <td>0</td>\n",
              "      <td>0</td>\n",
              "      <td>1</td>\n",
              "      <td>0</td>\n",
              "      <td>0</td>\n",
              "      <td>0</td>\n",
              "      <td>0</td>\n",
              "      <td>0</td>\n",
              "      <td>...</td>\n",
              "      <td>0</td>\n",
              "      <td>0</td>\n",
              "      <td>2</td>\n",
              "      <td>3662</td>\n",
              "      <td>3662</td>\n",
              "      <td>1</td>\n",
              "      <td>0</td>\n",
              "      <td>1</td>\n",
              "      <td>1</td>\n",
              "      <td>127.87</td>\n",
              "    </tr>\n",
              "    <tr>\n",
              "      <th>1</th>\n",
              "      <td>2</td>\n",
              "      <td>1</td>\n",
              "      <td>0</td>\n",
              "      <td>0</td>\n",
              "      <td>0</td>\n",
              "      <td>0</td>\n",
              "      <td>1</td>\n",
              "      <td>0</td>\n",
              "      <td>0</td>\n",
              "      <td>0</td>\n",
              "      <td>...</td>\n",
              "      <td>0</td>\n",
              "      <td>0</td>\n",
              "      <td>0</td>\n",
              "      <td>2900</td>\n",
              "      <td>2900</td>\n",
              "      <td>1</td>\n",
              "      <td>1</td>\n",
              "      <td>0</td>\n",
              "      <td>0</td>\n",
              "      <td>0.00</td>\n",
              "    </tr>\n",
              "    <tr>\n",
              "      <th>2</th>\n",
              "      <td>3</td>\n",
              "      <td>1</td>\n",
              "      <td>0</td>\n",
              "      <td>0</td>\n",
              "      <td>0</td>\n",
              "      <td>0</td>\n",
              "      <td>0</td>\n",
              "      <td>0</td>\n",
              "      <td>0</td>\n",
              "      <td>0</td>\n",
              "      <td>...</td>\n",
              "      <td>0</td>\n",
              "      <td>0</td>\n",
              "      <td>2</td>\n",
              "      <td>3883</td>\n",
              "      <td>3914</td>\n",
              "      <td>0</td>\n",
              "      <td>0</td>\n",
              "      <td>0</td>\n",
              "      <td>1</td>\n",
              "      <td>127.48</td>\n",
              "    </tr>\n",
              "    <tr>\n",
              "      <th>3</th>\n",
              "      <td>4</td>\n",
              "      <td>1</td>\n",
              "      <td>0</td>\n",
              "      <td>1</td>\n",
              "      <td>0</td>\n",
              "      <td>0</td>\n",
              "      <td>0</td>\n",
              "      <td>0</td>\n",
              "      <td>0</td>\n",
              "      <td>0</td>\n",
              "      <td>...</td>\n",
              "      <td>0</td>\n",
              "      <td>0</td>\n",
              "      <td>1</td>\n",
              "      <td>829</td>\n",
              "      <td>829</td>\n",
              "      <td>0</td>\n",
              "      <td>1</td>\n",
              "      <td>0</td>\n",
              "      <td>0</td>\n",
              "      <td>0.00</td>\n",
              "    </tr>\n",
              "    <tr>\n",
              "      <th>4</th>\n",
              "      <td>5</td>\n",
              "      <td>1</td>\n",
              "      <td>0</td>\n",
              "      <td>1</td>\n",
              "      <td>0</td>\n",
              "      <td>0</td>\n",
              "      <td>0</td>\n",
              "      <td>0</td>\n",
              "      <td>0</td>\n",
              "      <td>0</td>\n",
              "      <td>...</td>\n",
              "      <td>0</td>\n",
              "      <td>0</td>\n",
              "      <td>1</td>\n",
              "      <td>869</td>\n",
              "      <td>869</td>\n",
              "      <td>0</td>\n",
              "      <td>0</td>\n",
              "      <td>0</td>\n",
              "      <td>0</td>\n",
              "      <td>0.00</td>\n",
              "    </tr>\n",
              "    <tr>\n",
              "      <th>5</th>\n",
              "      <td>6</td>\n",
              "      <td>1</td>\n",
              "      <td>0</td>\n",
              "      <td>0</td>\n",
              "      <td>0</td>\n",
              "      <td>0</td>\n",
              "      <td>0</td>\n",
              "      <td>0</td>\n",
              "      <td>0</td>\n",
              "      <td>0</td>\n",
              "      <td>...</td>\n",
              "      <td>0</td>\n",
              "      <td>0</td>\n",
              "      <td>1</td>\n",
              "      <td>1995</td>\n",
              "      <td>2002</td>\n",
              "      <td>0</td>\n",
              "      <td>0</td>\n",
              "      <td>1</td>\n",
              "      <td>0</td>\n",
              "      <td>0.06</td>\n",
              "    </tr>\n",
              "    <tr>\n",
              "      <th>6</th>\n",
              "      <td>7</td>\n",
              "      <td>1</td>\n",
              "      <td>0</td>\n",
              "      <td>0</td>\n",
              "      <td>0</td>\n",
              "      <td>0</td>\n",
              "      <td>0</td>\n",
              "      <td>0</td>\n",
              "      <td>0</td>\n",
              "      <td>0</td>\n",
              "      <td>...</td>\n",
              "      <td>0</td>\n",
              "      <td>1</td>\n",
              "      <td>2</td>\n",
              "      <td>1498</td>\n",
              "      <td>1529</td>\n",
              "      <td>0</td>\n",
              "      <td>0</td>\n",
              "      <td>1</td>\n",
              "      <td>0</td>\n",
              "      <td>0.06</td>\n",
              "    </tr>\n",
              "    <tr>\n",
              "      <th>7</th>\n",
              "      <td>8</td>\n",
              "      <td>1</td>\n",
              "      <td>0</td>\n",
              "      <td>0</td>\n",
              "      <td>1</td>\n",
              "      <td>0</td>\n",
              "      <td>0</td>\n",
              "      <td>0</td>\n",
              "      <td>0</td>\n",
              "      <td>0</td>\n",
              "      <td>...</td>\n",
              "      <td>0</td>\n",
              "      <td>0</td>\n",
              "      <td>1</td>\n",
              "      <td>3397</td>\n",
              "      <td>3397</td>\n",
              "      <td>0</td>\n",
              "      <td>1</td>\n",
              "      <td>0</td>\n",
              "      <td>0</td>\n",
              "      <td>0.08</td>\n",
              "    </tr>\n",
              "    <tr>\n",
              "      <th>8</th>\n",
              "      <td>9</td>\n",
              "      <td>1</td>\n",
              "      <td>1</td>\n",
              "      <td>0</td>\n",
              "      <td>0</td>\n",
              "      <td>0</td>\n",
              "      <td>0</td>\n",
              "      <td>0</td>\n",
              "      <td>0</td>\n",
              "      <td>0</td>\n",
              "      <td>...</td>\n",
              "      <td>0</td>\n",
              "      <td>0</td>\n",
              "      <td>4</td>\n",
              "      <td>525</td>\n",
              "      <td>2914</td>\n",
              "      <td>1</td>\n",
              "      <td>1</td>\n",
              "      <td>0</td>\n",
              "      <td>1</td>\n",
              "      <td>488.50</td>\n",
              "    </tr>\n",
              "    <tr>\n",
              "      <th>9</th>\n",
              "      <td>10</td>\n",
              "      <td>1</td>\n",
              "      <td>1</td>\n",
              "      <td>0</td>\n",
              "      <td>0</td>\n",
              "      <td>0</td>\n",
              "      <td>0</td>\n",
              "      <td>0</td>\n",
              "      <td>0</td>\n",
              "      <td>0</td>\n",
              "      <td>...</td>\n",
              "      <td>0</td>\n",
              "      <td>0</td>\n",
              "      <td>1</td>\n",
              "      <td>3215</td>\n",
              "      <td>3215</td>\n",
              "      <td>0</td>\n",
              "      <td>0</td>\n",
              "      <td>0</td>\n",
              "      <td>1</td>\n",
              "      <td>173.50</td>\n",
              "    </tr>\n",
              "  </tbody>\n",
              "</table>\n",
              "<p>10 rows × 25 columns</p>\n",
              "</div>\n",
              "      <button class=\"colab-df-convert\" onclick=\"convertToInteractive('df-d2889ae8-0082-4d91-8c9e-55ca22e2dc2f')\"\n",
              "              title=\"Convert this dataframe to an interactive table.\"\n",
              "              style=\"display:none;\">\n",
              "        \n",
              "  <svg xmlns=\"http://www.w3.org/2000/svg\" height=\"24px\"viewBox=\"0 0 24 24\"\n",
              "       width=\"24px\">\n",
              "    <path d=\"M0 0h24v24H0V0z\" fill=\"none\"/>\n",
              "    <path d=\"M18.56 5.44l.94 2.06.94-2.06 2.06-.94-2.06-.94-.94-2.06-.94 2.06-2.06.94zm-11 1L8.5 8.5l.94-2.06 2.06-.94-2.06-.94L8.5 2.5l-.94 2.06-2.06.94zm10 10l.94 2.06.94-2.06 2.06-.94-2.06-.94-.94-2.06-.94 2.06-2.06.94z\"/><path d=\"M17.41 7.96l-1.37-1.37c-.4-.4-.92-.59-1.43-.59-.52 0-1.04.2-1.43.59L10.3 9.45l-7.72 7.72c-.78.78-.78 2.05 0 2.83L4 21.41c.39.39.9.59 1.41.59.51 0 1.02-.2 1.41-.59l7.78-7.78 2.81-2.81c.8-.78.8-2.07 0-2.86zM5.41 20L4 18.59l7.72-7.72 1.47 1.35L5.41 20z\"/>\n",
              "  </svg>\n",
              "      </button>\n",
              "      \n",
              "  <style>\n",
              "    .colab-df-container {\n",
              "      display:flex;\n",
              "      flex-wrap:wrap;\n",
              "      gap: 12px;\n",
              "    }\n",
              "\n",
              "    .colab-df-convert {\n",
              "      background-color: #E8F0FE;\n",
              "      border: none;\n",
              "      border-radius: 50%;\n",
              "      cursor: pointer;\n",
              "      display: none;\n",
              "      fill: #1967D2;\n",
              "      height: 32px;\n",
              "      padding: 0 0 0 0;\n",
              "      width: 32px;\n",
              "    }\n",
              "\n",
              "    .colab-df-convert:hover {\n",
              "      background-color: #E2EBFA;\n",
              "      box-shadow: 0px 1px 2px rgba(60, 64, 67, 0.3), 0px 1px 3px 1px rgba(60, 64, 67, 0.15);\n",
              "      fill: #174EA6;\n",
              "    }\n",
              "\n",
              "    [theme=dark] .colab-df-convert {\n",
              "      background-color: #3B4455;\n",
              "      fill: #D2E3FC;\n",
              "    }\n",
              "\n",
              "    [theme=dark] .colab-df-convert:hover {\n",
              "      background-color: #434B5C;\n",
              "      box-shadow: 0px 1px 3px 1px rgba(0, 0, 0, 0.15);\n",
              "      filter: drop-shadow(0px 1px 2px rgba(0, 0, 0, 0.3));\n",
              "      fill: #FFFFFF;\n",
              "    }\n",
              "  </style>\n",
              "\n",
              "      <script>\n",
              "        const buttonEl =\n",
              "          document.querySelector('#df-d2889ae8-0082-4d91-8c9e-55ca22e2dc2f button.colab-df-convert');\n",
              "        buttonEl.style.display =\n",
              "          google.colab.kernel.accessAllowed ? 'block' : 'none';\n",
              "\n",
              "        async function convertToInteractive(key) {\n",
              "          const element = document.querySelector('#df-d2889ae8-0082-4d91-8c9e-55ca22e2dc2f');\n",
              "          const dataTable =\n",
              "            await google.colab.kernel.invokeFunction('convertToInteractive',\n",
              "                                                     [key], {});\n",
              "          if (!dataTable) return;\n",
              "\n",
              "          const docLinkHtml = 'Like what you see? Visit the ' +\n",
              "            '<a target=\"_blank\" href=https://colab.research.google.com/notebooks/data_table.ipynb>data table notebook</a>'\n",
              "            + ' to learn more about interactive tables.';\n",
              "          element.innerHTML = '';\n",
              "          dataTable['output_type'] = 'display_data';\n",
              "          await google.colab.output.renderOutput(dataTable, element);\n",
              "          const docLink = document.createElement('div');\n",
              "          docLink.innerHTML = docLinkHtml;\n",
              "          element.appendChild(docLink);\n",
              "        }\n",
              "      </script>\n",
              "    </div>\n",
              "  </div>\n",
              "  "
            ]
          },
          "metadata": {},
          "execution_count": 3
        }
      ]
    },
    {
      "cell_type": "code",
      "source": [
        "# Describe the data for central tendency and other statistical descriptions\n",
        "# for display/output format purpose we turn the descriptions result into a dataframe so that we can see the results for each column\n",
        "summary_stats = pd.DataFrame(df.describe())\n",
        "print(summary_stats[summary_stats.columns[:15]])\n",
        "print(summary_stats[summary_stats.columns[15:]])"
      ],
      "metadata": {
        "colab": {
          "base_uri": "https://localhost:8080/"
        },
        "id": "eRWCUNH0SUQ9",
        "outputId": "4cfc1077-4ab1-44e3-e8a4-751ce006f4f4"
      },
      "execution_count": null,
      "outputs": [
        {
          "output_type": "stream",
          "name": "stdout",
          "text": [
            "       sequence_number           US     source_a     source_c     source_b  \\\n",
            "count      2000.000000  2000.000000  2000.000000  2000.000000  2000.000000   \n",
            "mean       1000.500000     0.824500     0.126500     0.056000     0.060000   \n",
            "std         577.494589     0.380489     0.332495     0.229979     0.237546   \n",
            "min           1.000000     0.000000     0.000000     0.000000     0.000000   \n",
            "25%         500.750000     1.000000     0.000000     0.000000     0.000000   \n",
            "50%        1000.500000     1.000000     0.000000     0.000000     0.000000   \n",
            "75%        1500.250000     1.000000     0.000000     0.000000     0.000000   \n",
            "max        2000.000000     1.000000     1.000000     1.000000     1.000000   \n",
            "\n",
            "          source_d     source_e    source_m     source_o     source_h  \\\n",
            "count  2000.000000  2000.000000  2000.00000  2000.000000  2000.000000   \n",
            "mean      0.041500     0.151000     0.01650     0.033500     0.052500   \n",
            "std       0.199493     0.358138     0.12742     0.179983     0.223089   \n",
            "min       0.000000     0.000000     0.00000     0.000000     0.000000   \n",
            "25%       0.000000     0.000000     0.00000     0.000000     0.000000   \n",
            "50%       0.000000     0.000000     0.00000     0.000000     0.000000   \n",
            "75%       0.000000     0.000000     0.00000     0.000000     0.000000   \n",
            "max       1.000000     1.000000     1.00000     1.000000     1.000000   \n",
            "\n",
            "          source_r     source_s    source_t     source_u     source_p  \n",
            "count  2000.000000  2000.000000  2000.00000  2000.000000  2000.000000  \n",
            "mean      0.068500     0.047000     0.02150     0.119000     0.006000  \n",
            "std       0.252665     0.211692     0.14508     0.323869     0.077246  \n",
            "min       0.000000     0.000000     0.00000     0.000000     0.000000  \n",
            "25%       0.000000     0.000000     0.00000     0.000000     0.000000  \n",
            "50%       0.000000     0.000000     0.00000     0.000000     0.000000  \n",
            "75%       0.000000     0.000000     0.00000     0.000000     0.000000  \n",
            "max       1.000000     1.000000     1.00000     1.000000     1.000000  \n",
            "          source_x     source_w         Freq  last_update_days_ago  \\\n",
            "count  2000.000000  2000.000000  2000.000000           2000.000000   \n",
            "mean      0.018000     0.137500     1.417000           2155.101000   \n",
            "std       0.132984     0.344461     1.405738           1141.302846   \n",
            "min       0.000000     0.000000     0.000000              1.000000   \n",
            "25%       0.000000     0.000000     1.000000           1133.000000   \n",
            "50%       0.000000     0.000000     1.000000           2280.000000   \n",
            "75%       0.000000     0.000000     2.000000           3139.250000   \n",
            "max       1.000000     1.000000    15.000000           4188.000000   \n",
            "\n",
            "       1st_update_days_ago    Web order  Gender=male  Address_is_res  \\\n",
            "count          2000.000000  2000.000000  2000.000000     2000.000000   \n",
            "mean           2435.601500     0.426000     0.524500        0.221000   \n",
            "std            1077.872233     0.494617     0.499524        0.415024   \n",
            "min               1.000000     0.000000     0.000000        0.000000   \n",
            "25%            1671.250000     0.000000     0.000000        0.000000   \n",
            "50%            2721.000000     0.000000     1.000000        0.000000   \n",
            "75%            3353.000000     1.000000     1.000000        0.000000   \n",
            "max            4188.000000     1.000000     1.000000        1.000000   \n",
            "\n",
            "          Purchase     Spending  \n",
            "count  2000.000000  2000.000000  \n",
            "mean      0.500000   102.560745  \n",
            "std       0.500125   186.749816  \n",
            "min       0.000000     0.000000  \n",
            "25%       0.000000     0.000000  \n",
            "50%       0.500000     1.855000  \n",
            "75%       1.000000   152.532500  \n",
            "max       1.000000  1500.060000  \n"
          ]
        }
      ]
    },
    {
      "cell_type": "code",
      "source": [
        "df.info()"
      ],
      "metadata": {
        "id": "kmOYk7GSPg2-",
        "colab": {
          "base_uri": "https://localhost:8080/"
        },
        "outputId": "6aa007c0-5fea-41a1-8441-79ee3898e367"
      },
      "execution_count": null,
      "outputs": [
        {
          "output_type": "stream",
          "name": "stdout",
          "text": [
            "<class 'pandas.core.frame.DataFrame'>\n",
            "RangeIndex: 2000 entries, 0 to 1999\n",
            "Data columns (total 25 columns):\n",
            " #   Column                Non-Null Count  Dtype  \n",
            "---  ------                --------------  -----  \n",
            " 0   sequence_number       2000 non-null   int64  \n",
            " 1   US                    2000 non-null   int64  \n",
            " 2   source_a              2000 non-null   int64  \n",
            " 3   source_c              2000 non-null   int64  \n",
            " 4   source_b              2000 non-null   int64  \n",
            " 5   source_d              2000 non-null   int64  \n",
            " 6   source_e              2000 non-null   int64  \n",
            " 7   source_m              2000 non-null   int64  \n",
            " 8   source_o              2000 non-null   int64  \n",
            " 9   source_h              2000 non-null   int64  \n",
            " 10  source_r              2000 non-null   int64  \n",
            " 11  source_s              2000 non-null   int64  \n",
            " 12  source_t              2000 non-null   int64  \n",
            " 13  source_u              2000 non-null   int64  \n",
            " 14  source_p              2000 non-null   int64  \n",
            " 15  source_x              2000 non-null   int64  \n",
            " 16  source_w              2000 non-null   int64  \n",
            " 17  Freq                  2000 non-null   int64  \n",
            " 18  last_update_days_ago  2000 non-null   int64  \n",
            " 19  1st_update_days_ago   2000 non-null   int64  \n",
            " 20  Web order             2000 non-null   int64  \n",
            " 21  Gender=male           2000 non-null   int64  \n",
            " 22  Address_is_res        2000 non-null   int64  \n",
            " 23  Purchase              2000 non-null   int64  \n",
            " 24  Spending              2000 non-null   float64\n",
            "dtypes: float64(1), int64(24)\n",
            "memory usage: 390.8 KB\n"
          ]
        }
      ]
    },
    {
      "cell_type": "code",
      "source": [
        "sns.displot(df, x=\"Spending\", binwidth=50)"
      ],
      "metadata": {
        "colab": {
          "base_uri": "https://localhost:8080/",
          "height": 386
        },
        "id": "7w0fZWV5hnAx",
        "outputId": "1b832659-c98a-4b17-a2a0-fe56d678c7ee"
      },
      "execution_count": null,
      "outputs": [
        {
          "output_type": "execute_result",
          "data": {
            "text/plain": [
              "<seaborn.axisgrid.FacetGrid at 0x7f9152490950>"
            ]
          },
          "metadata": {},
          "execution_count": 8
        },
        {
          "output_type": "display_data",
          "data": {
            "text/plain": [
              "<Figure size 360x360 with 1 Axes>"
            ],
            "image/png": "[encoded data removed]"
          },
          "metadata": {
            "needs_background": "light"
          }
        }
      ]
    },
    {
      "cell_type": "code",
      "source": [
        "# Correlation Matrix\n",
        "plt.figure(figsize = (30,20))\n",
        "\n",
        "p1 = round(df.corr(), 2)\n",
        "\n",
        "sns.heatmap(p1,cmap=\"YlGnBu\", annot=True)"
      ],
      "metadata": {
        "id": "xsB1-s78R9ro",
        "colab": {
          "base_uri": "https://localhost:8080/",
          "height": 667
        },
        "outputId": "96c09186-3d77-4efc-bc74-5a9aa03ce42b"
      },
      "execution_count": null,
      "outputs": [
        {
          "output_type": "execute_result",
          "data": {
            "text/plain": [
              "<matplotlib.axes._subplots.AxesSubplot at 0x7f914fbb6650>"
            ]
          },
          "metadata": {},
          "execution_count": 9
        },
        {
          "output_type": "display_data",
          "data": {
            "text/plain": [
              "<Figure size 2160x1440 with 2 Axes>"
            ],
            "image/png": "[encoded data removed]"
          },
          "metadata": {
            "needs_background": "light"
          }
        }
      ]
    },
    {
      "cell_type": "markdown",
      "source": [
        "###a.1 Multivariate Linear Regression Model\n"
      ],
      "metadata": {
        "id": "9NPGOhuPSvSZ"
      }
    },
    {
      "cell_type": "code",
      "source": [
        "from sklearn.model_selection import train_test_split\n",
        "X = df[df.columns[ df.columns != 'Spending']].values      # attributes\n",
        "y = df['Spending'].values                                 # target variable\n",
        "\n",
        "X_train, X_test, y_train, y_test = train_test_split(X, \n",
        "                                                    y,\n",
        "                                                    test_size = 0.3,\n",
        "                                                    random_state=42)"
      ],
      "metadata": {
        "id": "iCR725o0aya5"
      },
      "execution_count": 4,
      "outputs": []
    },
    {
      "cell_type": "code",
      "source": [
        "################################### Fit Simple Linear Regression Model ###################################\n",
        "\n",
        "from sklearn.linear_model import LinearRegression     # ordinary least squares Linear Regression\n",
        "from sklearn.model_selection import cross_val_score, GridSearchCV   # evaluate a score by cross-validation\n",
        "\n",
        "# A linear regression with multiple features\n",
        "# multiple linear regression class\n",
        "mlr = LinearRegression(fit_intercept=True,            # whether to calculate the intercept for this model (true by default, otherwise data is expected to be centered)\n",
        "                       n_jobs=-1)                     # speedup computations by using multiple processors; -1 means use all processors      \n",
        "mlr.fit(X, y)\n",
        "\n",
        "#Outer CV\n",
        "scores = cross_val_score(mlr,                                              # cross-validation scores\n",
        "                         X, \n",
        "                         y,\n",
        "                         scoring='neg_mean_squared_error', # optimizes for MSE \n",
        "                         cv=10)                                         # fit model to the data\n",
        "\n",
        "print(f\"Slopes:\\n {mlr.coef_}\")                   # estimated coefficients for the linear regression model\n",
        "print(f\"Intercept:\\n {mlr.intercept_}\")             # estimated intercept for the linear regression model\n",
        "print(f\"\\n Cross Validation Scores(neg_mean_squared_error):\\n{scores}\\n\")\n",
        "print(\"\\n Statistics of Cross Validation Performance: %0.2f (+/- %0.2f)\" % (scores.mean(), scores.std()*2)) # estimate mean and variance from cross validation metrics"
      ],
      "metadata": {
        "id": "TrFAGkhxSzJa",
        "colab": {
          "base_uri": "https://localhost:8080/"
        },
        "outputId": "dd051dcf-d0ae-41c8-c82b-09ae8b6df6ce"
      },
      "execution_count": 5,
      "outputs": [
        {
          "output_type": "stream",
          "name": "stdout",
          "text": [
            "Slopes:\n",
            " [-4.56774359e-03 -7.40483130e+00 -3.50148285e+00 -5.63762559e+01\n",
            " -1.24245505e+01 -4.38189791e+01 -2.23893219e+01 -3.85902600e+01\n",
            "  1.36402367e+01 -7.66059914e+01  1.61403016e+01 -2.16583335e+01\n",
            " -4.23863004e+01 -2.45448284e+00 -5.81550406e+01 -1.58703726e+01\n",
            " -2.12615622e+01  7.73611642e+01 -1.55763782e-02  5.82365505e-03\n",
            " -3.35465991e+00 -1.58239877e+00 -6.36110845e+01  9.17879335e+01]\n",
            "Intercept:\n",
            " 11.843131581078296\n",
            "\n",
            " Cross Validation Scores(neg_mean_squared_error):\n",
            "[-13691.3433862  -34526.53238019 -16803.58093127 -11748.19567626\n",
            " -17323.62122884 -10962.28569609  -8928.96710438  -7663.55653107\n",
            " -13396.82094557 -15671.17351217]\n",
            "\n",
            "\n",
            " Statistics of Cross Validation Performance: -15071.61 (+/- 14313.32)\n"
          ]
        }
      ]
    },
    {
      "cell_type": "code",
      "source": [
        "################################### Fit Simple Linear Regression Model ###################################\n",
        "\n",
        "from sklearn.linear_model import LinearRegression     # ordinary least squares Linear Regression\n",
        "from sklearn.model_selection import cross_val_score, GridSearchCV   # evaluate a score by cross-validation\n",
        "\n",
        "# A linear regression with multiple features\n",
        "# multiple linear regression class\n",
        "mlr = LinearRegression(fit_intercept=True,            # whether to calculate the intercept for this model (true by default, otherwise data is expected to be centered)\n",
        "                       n_jobs=-1)                     # speedup computations by using multiple processors; -1 means use all processors      \n",
        "mlr.fit(X, y)\n",
        "\n",
        "#Outer CV\n",
        "scores = cross_val_score(mlr,                                              # cross-validation scores\n",
        "                         X, \n",
        "                         y,\n",
        "                         scoring='neg_mean_squared_error', # optimizes for MSE \n",
        "                         cv=10)                                         # fit model to the data\n",
        "\n",
        "print(f\"Slopes:\\n {mlr.coef_}\")                   # estimated coefficients for the linear regression model\n",
        "print(f\"Intercept:\\n {mlr.intercept_}\")             # estimated intercept for the linear regression model\n",
        "print(f\"\\n Cross Validation Scores(neg_mean_squared_error):\\n{scores}\\n\")\n",
        "print(\"\\n Statistics of Cross Validation Performance: %0.2f (+/- %0.2f)\" % (scores.mean(), scores.std()*2)) # estimate mean and variance from cross validation metrics"
      ],
      "metadata": {
        "colab": {
          "base_uri": "https://localhost:8080/"
        },
        "id": "jp5NCO9wrUHl",
        "outputId": "b5d8376c-a601-4b98-de92-8a2c63e8fc0f"
      },
      "execution_count": null,
      "outputs": [
        {
          "output_type": "stream",
          "name": "stdout",
          "text": [
            "Slopes:\n",
            " [-4.56774359e-03 -7.40483130e+00 -3.50148285e+00 -5.63762559e+01\n",
            " -1.24245505e+01 -4.38189791e+01 -2.23893219e+01 -3.85902600e+01\n",
            "  1.36402367e+01 -7.66059914e+01  1.61403016e+01 -2.16583335e+01\n",
            " -4.23863004e+01 -2.45448284e+00 -5.81550406e+01 -1.58703726e+01\n",
            " -2.12615622e+01  7.73611642e+01 -1.55763782e-02  5.82365505e-03\n",
            " -3.35465991e+00 -1.58239877e+00 -6.36110845e+01  9.17879335e+01]\n",
            "Intercept:\n",
            " 11.843131581078296\n",
            "\n",
            " Cross Validation Scores(R-squares):\n",
            "[-13691.3433862  -34526.53238019 -16803.58093127 -11748.19567626\n",
            " -17323.62122884 -10962.28569609  -8928.96710438  -7663.55653107\n",
            " -13396.82094557 -15671.17351217]\n",
            "\n",
            "\n",
            " Statistics of Cross Validation Performance: -15071.61 (+/- 14313.32)\n"
          ]
        }
      ]
    },
    {
      "cell_type": "markdown",
      "source": [
        "Evaluate multivariate linear regression model"
      ],
      "metadata": {
        "id": "EF5ZOTTRapiM"
      }
    },
    {
      "cell_type": "code",
      "source": [
        "from sklearn.metrics import mean_absolute_error, mean_squared_error\n",
        "\n",
        "y_train_pred = mlr.predict(X_train)                   # apply model to train data (in sample performance)\n",
        "y_test_pred = mlr.predict(X_test)                     # apply model to test data (out of sample performance)\n",
        "\n",
        "print('MSE train: %.3f, MSE test: %.3f' % ( # mean_absolute_error\n",
        "        mean_squared_error(y_train, y_train_pred),\n",
        "        mean_squared_error(y_test, y_test_pred)))  # y_test: Ground truth (correct) target values\n",
        "                                                   # y_test_pred: Estimated target values\n",
        "print('MAE train: %.3f, MAE test: %.3f' % ( # mean_squared_error\n",
        "        mean_absolute_error(y_train, y_train_pred),\n",
        "        mean_absolute_error(y_test, y_test_pred))) # y_test: Ground truth (correct) target values\n",
        "                                                   # y_test_pred: Estimated target values"
      ],
      "metadata": {
        "colab": {
          "base_uri": "https://localhost:8080/"
        },
        "id": "3McNW46FYGRe",
        "outputId": "69c2d9a7-5ac0-4ca1-bb40-42693f5b3b00"
      },
      "execution_count": null,
      "outputs": [
        {
          "output_type": "stream",
          "name": "stdout",
          "text": [
            "MSE train: 14520.069, MSE test: 14829.884\n",
            "MAE train: 69.945, MAE test: 67.281\n"
          ]
        }
      ]
    },
    {
      "cell_type": "markdown",
      "source": [
        "###a.2   KNN"
      ],
      "metadata": {
        "id": "XPZq_NYMdjFB"
      }
    },
    {
      "cell_type": "code",
      "source": [
        "############################################# Train the Model #############################################\n",
        "\n",
        "from sklearn import neighbors\n",
        "\n",
        "# KNeighborsRegressor is a numeric predictor implementing the k-nearest neighbors average.\n",
        "# Learn more about it here https://scikit-learn.org/stable/modules/generated/sklearn.neighbors.KNeighborsRegressor.html\n",
        "\n",
        "# Set parameters of KNeighborsClassifier\n",
        "knnReg = neighbors.KNeighborsRegressor(n_neighbors=5, # n_neighbors is the k in the kNN\n",
        "                        p=2,                     # power parameter for the Minkowski metric. We used p = 2, \n",
        "                        metric='minkowski',      # the default metric is minkowski, which is a generalization of the Euclidean distance\n",
        "                                                    # with p=2 is equivalent to the standard Euclidean distance.\n",
        "                                                    # with p=1 is equivalent to the Mahattan distance.\n",
        "                        n_jobs=-1,               # the number of parallel jobs to run for neighbors search. -1 means using all processors\n",
        "                        weights='distance')       # We choose 'distance' because we wanted to apply a similarity-moderated kNN\n",
        "# Train the model      \n",
        "knnReg.fit(X, y) \n",
        "\n",
        "################################# CROSS VALIDATION FOR KNN ##################################################\n",
        "scores = cross_val_score(knnReg,                                              # cross-validation scores\n",
        "                         X, \n",
        "                         y,\n",
        "                         scoring='neg_mean_squared_error', # optimizes for MSE \n",
        "                         cv=10)                                         # fit model to the data\n",
        "\n",
        "print(f\"\\n Cross Validation Scores(neg_mean_squared_error):\\n{scores}\\n\")\n",
        "print(\"\\n Statistics of Cross Validation Performance: %0.2f (+/- %0.2f)\" % (scores.mean(), scores.std() * 2))"
      ],
      "metadata": {
        "id": "WHpBDRcnYt3c",
        "colab": {
          "base_uri": "https://localhost:8080/"
        },
        "outputId": "846001c6-68c0-4008-b522-7770a47d9193"
      },
      "execution_count": 6,
      "outputs": [
        {
          "output_type": "stream",
          "name": "stdout",
          "text": [
            "\n",
            " Cross Validation Scores(neg_mean_squared_error):\n",
            "[-35669.82745479 -51945.57148689 -31072.34303898 -22319.26166525\n",
            " -39948.81146301 -21973.55085935 -18969.59455752 -12205.59779847\n",
            " -26346.43090974 -30083.64831465]\n",
            "\n",
            "\n",
            " Statistics of Cross Validation Performance: -29053.46 (+/- 21725.64)\n"
          ]
        }
      ]
    },
    {
      "cell_type": "code",
      "source": [
        "############################################# Train the Model #############################################\n",
        "\n",
        "from sklearn import neighbors\n",
        "\n",
        "# KNeighborsRegressor is a numeric predictor implementing the k-nearest neighbors average.\n",
        "# Learn more about it here https://scikit-learn.org/stable/modules/generated/sklearn.neighbors.KNeighborsRegressor.html\n",
        "\n",
        "# Set parameters of KNeighborsClassifier\n",
        "knnReg = neighbors.KNeighborsRegressor(n_neighbors=5, # n_neighbors is the k in the kNN\n",
        "                        p=2,                     # power parameter for the Minkowski metric. We used p = 2, \n",
        "                        metric='minkowski',      # the default metric is minkowski, which is a generalization of the Euclidean distance\n",
        "                                                    # with p=2 is equivalent to the standard Euclidean distance.\n",
        "                                                    # with p=1 is equivalent to the Mahattan distance.\n",
        "                        n_jobs=-1,               # the number of parallel jobs to run for neighbors search. -1 means using all processors\n",
        "                        weights='distance')       # We choose 'distance' because we wanted to apply a similarity-moderated kNN\n",
        "# Train the model      \n",
        "knnReg.fit(X, y) \n",
        "\n",
        "################################# CROSS VALIDATION FOR KNN ##################################################\n",
        "scores = cross_val_score(knnReg,                                              # cross-validation scores\n",
        "                         X, \n",
        "                         y,\n",
        "                         scoring='neg_mean_squared_error', # optimizes for MSE \n",
        "                         cv=10)                                         # fit model to the data\n",
        "\n",
        "print(f\"\\n Cross Validation Scores(neg_mean_squared_error):\\n{scores}\\n\")\n",
        "print(\"\\n Statistics of Cross Validation Performance: %0.2f (+/- %0.2f)\" % (scores.mean(), scores.std() * 2))"
      ],
      "metadata": {
        "colab": {
          "base_uri": "https://localhost:8080/"
        },
        "id": "ak8xuDgu7xTL",
        "outputId": "8b437eb8-ead7-40fd-a767-1814f0167f44"
      },
      "execution_count": null,
      "outputs": [
        {
          "output_type": "stream",
          "name": "stdout",
          "text": [
            "\n",
            " Cross Validation Scores(neg_mean_squared_error):\n",
            "[-35669.82745479 -51945.57148689 -31072.34303898 -22319.26166525\n",
            " -39948.81146301 -21973.55085935 -18969.59455752 -12205.59779847\n",
            " -26346.43090974 -30083.64831465]\n",
            "\n",
            "\n",
            " Statistics of Cross Validation Performance: -29053.46 (+/- 21725.64)\n"
          ]
        }
      ]
    },
    {
      "cell_type": "markdown",
      "source": [
        "Evaluating the KNN regressor on the train "
      ],
      "metadata": {
        "id": "eS6aPebWQWln"
      }
    },
    {
      "cell_type": "code",
      "source": [
        "# Use the model to make in-sample and out_of_sample inference\n",
        "y_train_pred = knnReg.predict(X_train)      # in-sample prediction\n",
        "y_test_pred = knnReg.predict(X_test)        # out_of sample prediction\n",
        "\n",
        "print('MSE train: %.3f, test: %.3f' % ( # mean_absolute_error\n",
        "        mean_squared_error(y_train, y_train_pred),\n",
        "        mean_squared_error(y_test, y_test_pred)))  # y_test: Ground truth (correct) target values\n",
        "                                                   # y_test_pred: Estimated target values\n",
        "print('MAE train: %.3f, test: %.3f' % ( # mean_squared_error\n",
        "        mean_absolute_error(y_train, y_train_pred),\n",
        "        mean_absolute_error(y_test, y_test_pred))) # y_test: Ground truth (correct) target values\n",
        "                                                   # y_test_pred: Estimated target values"
      ],
      "metadata": {
        "colab": {
          "base_uri": "https://localhost:8080/"
        },
        "id": "U4S5Z5OZFpc5",
        "outputId": "31a206ee-937c-4abf-9ee7-4a98f2ecc3e8"
      },
      "execution_count": null,
      "outputs": [
        {
          "output_type": "stream",
          "name": "stdout",
          "text": [
            "MSE train: 0.000, test: 29513.228\n",
            "MAE train: 0.000, test: 99.403\n"
          ]
        }
      ]
    },
    {
      "cell_type": "markdown",
      "source": [
        "### a.3 Regression Tree"
      ],
      "metadata": {
        "id": "B4gkXCDEgePw"
      }
    },
    {
      "cell_type": "code",
      "source": [
        "from sklearn.model_selection import cross_val_score, GridSearchCV\n",
        "from sklearn.tree import DecisionTreeRegressor\n",
        "\n",
        "# Instantiate the  decision tree regressor model\n",
        "regTree = DecisionTreeRegressor(random_state=42)\n",
        "\n",
        "# Train the model      \n",
        "regTree.fit(X, y) \n",
        "\n",
        "scores = cross_val_score(regTree,                                              # cross-validation scores\n",
        "                         X, \n",
        "                         y,\n",
        "                         scoring='neg_mean_squared_error', # optimizes for MSE \n",
        "                         cv=10)                                         # fit model to the data\n",
        "\n",
        "print(f\"\\n Cross Validation Scores(neg_mean_squared_error):\\n{scores}\\n\")\n",
        "print(\"\\n Statistics of Cross Validation Performance: %0.2f (+/- %0.2f)\" % (scores.mean(), scores.std() * 2)) # estimate mean and variance from cross validation metrics"
      ],
      "metadata": {
        "colab": {
          "base_uri": "https://localhost:8080/"
        },
        "id": "7DW9gMH3flh7",
        "outputId": "8f1bb645-4b73-4f7b-bc70-6cd50b2967a5"
      },
      "execution_count": 7,
      "outputs": [
        {
          "output_type": "stream",
          "name": "stdout",
          "text": [
            "\n",
            " Cross Validation Scores(neg_mean_squared_error):\n",
            "[-25982.3305495 -40767.9388455 -20780.2035985 -20354.4770155\n",
            " -19551.0335405 -47667.9100685 -21663.130696   -9141.429277\n",
            " -32132.81665   -24451.302715 ]\n",
            "\n",
            "\n",
            " Statistics of Cross Validation Performance: -26249.26 (+/- 21266.94)\n"
          ]
        }
      ]
    },
    {
      "cell_type": "code",
      "source": [
        "from sklearn.model_selection import cross_val_score, GridSearchCV\n",
        "from sklearn.tree import DecisionTreeRegressor\n",
        "\n",
        "# Instantiate the  decision tree regressor model\n",
        "regTree = DecisionTreeRegressor(random_state=42)\n",
        "\n",
        "# Train the model      \n",
        "regTree.fit(X, y) \n",
        "\n",
        "scores = cross_val_score(regTree,                                              # cross-validation scores\n",
        "                         X, \n",
        "                         y,\n",
        "                         scoring='neg_mean_squared_error', # optimizes for MSE \n",
        "                         cv=10)                                         # fit model to the data\n",
        "\n",
        "print(f\"\\n Cross Validation Scores(neg_mean_squared_error):\\n{scores}\\n\")\n",
        "print(\"\\n Statistics of Cross Validation Performance: %0.2f (+/- %0.2f)\" % (scores.mean(), scores.std() * 2)) # estimate mean and variance from cross validation metrics"
      ],
      "metadata": {
        "colab": {
          "base_uri": "https://localhost:8080/"
        },
        "id": "z5GYCNOv8sHM",
        "outputId": "e35eaa1a-0e39-4a25-812a-3009f9e9f15a"
      },
      "execution_count": null,
      "outputs": [
        {
          "output_type": "stream",
          "name": "stdout",
          "text": [
            "\n",
            " Cross Validation Scores(neg_mean_squared_error):\n",
            "[-25982.3305495 -40767.9388455 -20780.2035985 -20354.4770155\n",
            " -19551.0335405 -47667.9100685 -21663.130696   -9141.429277\n",
            " -32132.81665   -24451.302715 ]\n",
            "\n",
            "\n",
            " Statistics of Cross Validation Performance: -26249.26 (+/- 21266.94)\n"
          ]
        }
      ]
    },
    {
      "cell_type": "markdown",
      "source": [
        "Decision Tree Regressor Cross Validation"
      ],
      "metadata": {
        "id": "PbBu5AxDF846"
      }
    },
    {
      "cell_type": "code",
      "source": [
        "# Use the model to make in-sample and out_of_sample inference\n",
        "y_train_pred = regTree.predict(X_train)      # in-sample prediction\n",
        "y_test_pred = regTree.predict(X_test)        # out_of sample prediction\n",
        "\n",
        "print('MSE train: %.3f, test: %.3f' % ( # mean_absolute_error\n",
        "        mean_squared_error(y_train, y_train_pred),\n",
        "        mean_squared_error(y_test, y_test_pred)))  # y_test: Ground truth (correct) target values\n",
        "                                                   # y_test_pred: Estimated target values\n",
        "print('MAE train: %.3f, test: %.3f' % ( # mean_squared_error\n",
        "        mean_absolute_error(y_train, y_train_pred),\n",
        "        mean_absolute_error(y_test, y_test_pred))) # y_test: Ground truth (correct) target values\n",
        "                                                   # y_test_pred: Estimated target values"
      ],
      "metadata": {
        "colab": {
          "base_uri": "https://localhost:8080/"
        },
        "id": "HMl1YFhLF6_u",
        "outputId": "b7733bd4-085c-40d6-9fef-912393c14e3a"
      },
      "execution_count": null,
      "outputs": [
        {
          "output_type": "stream",
          "name": "stdout",
          "text": [
            "MSE train: 0.000, test: 30104.140\n",
            "MAE train: 0.000, test: 70.609\n"
          ]
        }
      ]
    },
    {
      "cell_type": "markdown",
      "source": [
        "# b. Feature Engineering and Model Optimization"
      ],
      "metadata": {
        "id": "BCVWZj8Nkphd"
      }
    },
    {
      "cell_type": "markdown",
      "source": [
        "FEATURE ENGINEERING\n",
        "\n",
        "We looked closely in the dataset and we have decided to create some new features and remove some irrelevant features. First of all, we have removed the sequence number because it is an index column presented as feature. The second, we create a new features from the last_update_days_ago and 1st_update_days_ago and the feature will be the difference between the two. We don't need to square it or apply the absolute because the features will contain non-negative values."
      ],
      "metadata": {
        "id": "qFFVbP7hn4Ix"
      }
    },
    {
      "cell_type": "code",
      "source": [
        "import numpy as np\n",
        "new_df = df\n",
        "new_df['days_until_update'] = np.log(df['1st_update_days_ago'] - df['last_update_days_ago']+1/3)\n",
        "new_df['last_update_days_ago'] = np.log(new_df['last_update_days_ago'])\n",
        "new_df = new_df.drop(['sequence_number', '1st_update_days_ago'], axis='columns')\n",
        "new_df.columns"
      ],
      "metadata": {
        "colab": {
          "base_uri": "https://localhost:8080/"
        },
        "id": "tsnSv0GUn4pD",
        "outputId": "f800599f-c4b3-4b1b-80ef-3dd047d023c7"
      },
      "execution_count": 8,
      "outputs": [
        {
          "output_type": "execute_result",
          "data": {
            "text/plain": [
              "Index(['US', 'source_a', 'source_c', 'source_b', 'source_d', 'source_e',\n",
              "       'source_m', 'source_o', 'source_h', 'source_r', 'source_s', 'source_t',\n",
              "       'source_u', 'source_p', 'source_x', 'source_w', 'Freq',\n",
              "       'last_update_days_ago', 'Web order', 'Gender=male', 'Address_is_res',\n",
              "       'Purchase', 'Spending', 'days_until_update'],\n",
              "      dtype='object')"
            ]
          },
          "metadata": {},
          "execution_count": 8
        }
      ]
    },
    {
      "cell_type": "code",
      "source": [
        "from sklearn.model_selection import train_test_split\n",
        "X = new_df[new_df.columns[ new_df.columns != 'Spending']].values      # attributes\n",
        "y = new_df['Spending'].values                                 # target variable. \n",
        "\n",
        "X_train, X_test, y_train, y_test = train_test_split(X, \n",
        "                                                    y,\n",
        "                                                    test_size = 0.3,\n",
        "                                                    random_state=42)\n",
        "\n",
        "# Since y is right skewed, we do the log transformation to traing\n",
        "y_train_log = np.log(y_train + 1/3)\n",
        "# Since y is right skewed, we do the log transformation to traing\n",
        "y_log = np.log(y + 1/3)"
      ],
      "metadata": {
        "id": "mDAIP7RSra2H"
      },
      "execution_count": 10,
      "outputs": []
    },
    {
      "cell_type": "markdown",
      "source": [
        "### b.1 Improving Linear Regression Model"
      ],
      "metadata": {
        "id": "Y3VvhYE6lWLC"
      }
    },
    {
      "cell_type": "markdown",
      "source": [
        "Multiple Linear Regression wth the new features."
      ],
      "metadata": {
        "id": "DD3aJldv3CKn"
      }
    },
    {
      "cell_type": "code",
      "source": [
        "from sklearn.metrics import mean_absolute_error, mean_squared_error\n",
        "# A linear regression with multiple features\n",
        "# multiple linear regression class\n",
        "mlr = LinearRegression(fit_intercept=True,            # whether to calculate the intercept for this model (true by default, otherwise data is expected to be centered)\n",
        "                       n_jobs=-1)                     # speedup computations by using multiple processors; -1 means use all processors      \n",
        "mlr.fit(X, y_log)\n",
        "\n",
        "#Outer CV\n",
        "scores = cross_val_score(mlr,                                              # cross-validation scores\n",
        "                         X, \n",
        "                         y_log,\n",
        "                         scoring='neg_mean_squared_error',              # optimizes for MSE \n",
        "                         cv=10)                                         # fit model to the data\n",
        "\n",
        "print(f\"Slopes:\\n {mlr.coef_}\")                   # estimated coefficients for the linear regression model\n",
        "print(f\"Intercept:\\n {mlr.intercept_}\")             # estimated intercept for the linear regression model\n",
        "print(f\"\\n Cross Validation Scores(neg_mean_squared_error):\\n{scores}\\n\")\n",
        "print(\"\\n Statistics of Cross Validation Performance: %0.2f (+/- %0.2f)\" % (scores.mean(), scores.std()*2)) # estimate mean and variance from cross validation metrics\n"
      ],
      "metadata": {
        "colab": {
          "base_uri": "https://localhost:8080/"
        },
        "id": "XA1Jd7qppjHw",
        "outputId": "ec434f20-6131-49e9-b8b8-eb5ce29015c1"
      },
      "execution_count": 11,
      "outputs": [
        {
          "output_type": "stream",
          "name": "stdout",
          "text": [
            "Slopes:\n",
            " [-7.47669916e-02  9.69730195e-02 -1.21867009e-01  4.55490947e-02\n",
            " -6.78771217e-03 -3.64179990e-02  3.24237686e-03 -1.83105554e-02\n",
            " -3.31628834e-01  4.49482093e-02 -1.60555568e-01 -2.44481110e-02\n",
            " -2.36471016e-02 -1.43965203e-01 -6.81910649e-02 -3.63332673e-02\n",
            "  2.09968286e-01 -6.48596114e-02 -2.53821520e-02 -9.67969049e-03\n",
            " -1.47838989e-01  5.53718847e+00  3.14920305e-02]\n",
            "Intercept:\n",
            " -0.5224052799313343\n",
            "\n",
            " Cross Validation Scores(neg_mean_squared_error):\n",
            "[-0.26867163 -0.46840257 -0.28306759 -0.25736419 -0.33849702 -0.27778282\n",
            " -0.25002972 -0.25659741 -0.41991423 -0.34592955]\n",
            "\n",
            "\n",
            " Statistics of Cross Validation Performance: -0.32 (+/- 0.14)\n"
          ]
        }
      ]
    },
    {
      "cell_type": "code",
      "source": [
        "from sklearn.metrics import mean_absolute_error, mean_squared_error\n",
        "# A linear regression with multiple features\n",
        "# multiple linear regression class\n",
        "mlr = LinearRegression(fit_intercept=True,            # whether to calculate the intercept for this model (true by default, otherwise data is expected to be centered)\n",
        "                       n_jobs=-1)                     # speedup computations by using multiple processors; -1 means use all processors      \n",
        "mlr.fit(X_train, y_train_log)\n",
        "\n",
        "#Outer CV\n",
        "scores = cross_val_score(mlr,                                              # cross-validation scores\n",
        "                         X_train, \n",
        "                         y_train_log,\n",
        "                         scoring='neg_mean_squared_error',              # optimizes for MSE \n",
        "                         cv=10)                                         # fit model to the data\n",
        "\n",
        "print(f\"Slopes:\\n {mlr.coef_}\")                   # estimated coefficients for the linear regression model\n",
        "print(f\"Intercept:\\n {mlr.intercept_}\")             # estimated intercept for the linear regression model\n",
        "print(f\"\\n Cross Validation Scores(R-squares):\\n{scores}\\n\")\n",
        "print(\"\\n Statistics of Cross Validation Performance: %0.2f (+/- %0.2f)\" % (scores.mean(), scores.std()*2)) # estimate mean and variance from cross validation metrics\n",
        "\n",
        "################################# FINAL EVALUATION ON THE TEST DATA  ##############################################\n",
        "#------------------------------------------------------------------------------------------------------------------\n",
        "print(\"GENERAL PERFORMANCE EVALUATION\\n=====================================================\")\n",
        "y_train_pred = np.exp(mlr.predict(X_train)) - 1/3           # apply model to train data (in sample performance) and undo the log transformation\n",
        "y_test_pred = np.exp(mlr.predict(X_test)) - 1/3             # apply model to test data (out of sample performance)\n",
        "\n",
        "print('MSE train: %.3f, MSE test: %.3f' % ( # mean_absolute_error\n",
        "        mean_squared_error(y_train, y_train_pred),\n",
        "        mean_squared_error(y_test, y_test_pred)))  # y_test: Ground truth (correct) target values\n",
        "                                                   # y_test_pred: Estimated target values\n",
        "print('MAE train: %.3f, MAE test: %.3f' % ( # mean_squared_error\n",
        "        mean_absolute_error(y_train, y_train_pred),\n",
        "        mean_absolute_error(y_test, y_test_pred))) # y_test: Ground truth (correct) target values\n",
        "                                                   # y_test_pred: Estimated target values"
      ],
      "metadata": {
        "colab": {
          "base_uri": "https://localhost:8080/"
        },
        "id": "a3GvPtAW2j3u",
        "outputId": "529337a7-a696-4cb3-863d-525166fb13ee"
      },
      "execution_count": null,
      "outputs": [
        {
          "output_type": "stream",
          "name": "stdout",
          "text": [
            "Slopes:\n",
            " [-7.09092798e-02  9.61846804e-02 -1.49290821e-01  2.74652949e-02\n",
            " -2.17630856e-02 -5.68251469e-02 -1.35239749e-02 -2.59919958e-02\n",
            " -3.34595814e-01  4.87361281e-02 -2.23708107e-01  2.88278224e-02\n",
            " -7.29000950e-02 -1.86521219e-01 -5.87545987e-02 -1.78370053e-02\n",
            "  2.04283940e-01 -6.34732750e-02 -1.09952308e-02 -5.08563129e-03\n",
            " -1.52331042e-01  5.50838185e+00  3.62623253e-02]\n",
            "Intercept:\n",
            " -0.5284955790794803\n",
            "\n",
            " Cross Validation Scores(R-squares):\n",
            "[-0.35882675 -0.29797386 -0.3931856  -0.27323076 -0.35558566 -0.33099814\n",
            " -0.15321666 -0.35889326 -0.34347557 -0.33582459]\n",
            "\n",
            "\n",
            " Statistics of Cross Validation Performance: -0.32 (+/- 0.13)\n",
            "GENERAL PERFORMANCE EVALUATION\n",
            "=====================================================\n",
            "MSE train: 15877.895, MSE test: 15804.910\n",
            "MAE train: 47.888, MAE test: 49.399\n"
          ]
        }
      ]
    },
    {
      "cell_type": "markdown",
      "source": [
        "Linear Regression model with polynomial features"
      ],
      "metadata": {
        "id": "UGQVgAeWOWYv"
      }
    },
    {
      "cell_type": "code",
      "source": [
        "######################### Increasing Linear Regression Model Complexity    ########################\n",
        "from sklearn.pipeline import Pipeline\n",
        "from sklearn.preprocessing import PolynomialFeatures\n",
        "from sklearn.preprocessing import MinMaxScaler\n",
        "from sklearn.model_selection import KFold\n",
        "\n",
        "inner_cv = KFold(n_splits=5, random_state=42, shuffle=True)\n",
        "params = {'fit_intercept': [True, False]}\n",
        "\n",
        "#normalize data with min max scaling\n",
        "sc = MinMaxScaler(feature_range=(0, 1))\n",
        "sc.fit(X)                                 # scaling parameters to be learned for later scaling\n",
        "\n",
        "x_scaled = sc.transform(X)\n",
        "x_sc = pd.DataFrame(x_scaled)\n",
        "\n",
        "\n",
        "# Inner CV\n",
        "mlr_poly = GridSearchCV(LinearRegression(), \n",
        "                        params, \n",
        "                        cv=inner_cv,\n",
        "                        scoring='neg_mean_squared_error',              # optimizes for MSE (see note below)\n",
        "                        n_jobs=-1)\n",
        "\n",
        "for i in range(1,4):\n",
        "    poly = PolynomialFeatures(degree=i)     # degree of polynomial features (degree=3)\n",
        "    X_poly = poly.fit_transform(x_sc)  \n",
        "    mlr_poly.fit(X_poly,y_log)\n",
        "\n",
        "    print(f\"\\n POLYNOMIAL FEATURES: {i} \\n=========================\")\n",
        "    print(mlr_poly.best_score_)\n",
        "    print(mlr_poly.best_params_)\n",
        "    print(mlr_poly.best_estimator_)\n",
        "\n",
        "    # Outer CV\n",
        "    nested_score_mlr_poly = cross_val_score(mlr_poly, \n",
        "                                        X=X_poly, \n",
        "                                        y=y_log, \n",
        "                                        scoring='neg_mean_squared_error', # optimizes for MSE (see note below)\n",
        "                                        cv=10)\n",
        "    print(\"Nested neg_mean_squared_error value is: \", nested_score_mlr_poly.mean(), \" +/- \", 2*nested_score_mlr_poly.std()) # estimate mean and 2*std from cross validation metrics\n"
      ],
      "metadata": {
        "colab": {
          "base_uri": "https://localhost:8080/"
        },
        "id": "3eDb5snbpw11",
        "outputId": "5d2c592e-a2c8-4586-a535-3ccf90ee5dc3"
      },
      "execution_count": 12,
      "outputs": [
        {
          "output_type": "stream",
          "name": "stdout",
          "text": [
            "\n",
            " POLYNOMIAL FEATURES: 1 \n",
            "=========================\n",
            "-0.3164266567500608\n",
            "{'fit_intercept': False}\n",
            "LinearRegression(fit_intercept=False)\n",
            "Nested neg_mean_squared_error value is:  -0.31662567259381946  +/-  0.143564152997299\n",
            "\n",
            " POLYNOMIAL FEATURES: 2 \n",
            "=========================\n",
            "-1.2888295336883152e+20\n",
            "{'fit_intercept': False}\n",
            "LinearRegression(fit_intercept=False)\n",
            "Nested neg_mean_squared_error value is:  -1.8436080495744444e+20  +/-  1.079765540609907e+21\n",
            "\n",
            " POLYNOMIAL FEATURES: 3 \n",
            "=========================\n",
            "-626659855.7850544\n",
            "{'fit_intercept': False}\n",
            "LinearRegression(fit_intercept=False)\n",
            "Nested neg_mean_squared_error value is:  -1.1597320011260398e+22  +/-  5.824768034778826e+22\n"
          ]
        }
      ]
    },
    {
      "cell_type": "code",
      "source": [
        "######################### Increasing Linear Regression Model Complexity    ########################\n",
        "from sklearn.pipeline import Pipeline\n",
        "from sklearn.preprocessing import PolynomialFeatures\n",
        "from sklearn.preprocessing import MinMaxScaler\n",
        "from sklearn.model_selection import KFold\n",
        "\n",
        "inner_cv = KFold(n_splits=5, random_state=42, shuffle=True)\n",
        "params = {'fit_intercept': [True, False]}\n",
        "\n",
        "#normalize data with min max scaling\n",
        "sc = MinMaxScaler(feature_range=(0, 1))\n",
        "sc.fit(X_train)                                 # scaling parameters to be learned for later scaling\n",
        "\n",
        "x_train_scaled = sc.transform(X_train)          # scaling of features in train data    \n",
        "x_train_sc = pd.DataFrame(x_train_scaled)       # constructing dataFrame\n",
        "\n",
        "x_test_scaled = sc.transform(X_test)            # scaling of features in test data \n",
        "x_test_sc = pd.DataFrame(x_test_scaled)         # constructing dataFrame\n",
        "\n",
        "# Inner CV\n",
        "mlr_poly = GridSearchCV(LinearRegression(), \n",
        "                        params, \n",
        "                        cv=inner_cv,\n",
        "                        scoring='neg_mean_squared_error',              # optimizes for MSE (see note below)\n",
        "                        n_jobs=-1)\n",
        "\n",
        "for i in range(1,4):\n",
        "    poly = PolynomialFeatures(degree=i)     # degree of polynomial features (degree=3)\n",
        "    X_poly = poly.fit_transform(X_train)  \n",
        "    mlr_poly.fit(X_poly,y_train_log)\n",
        "\n",
        "    print(f\"\\n POLYNOMIAL FEATURES: {i} \\n=========================\")\n",
        "    print(mlr_poly.best_score_)\n",
        "    print(mlr_poly.best_params_)\n",
        "    print(mlr_poly.best_estimator_)\n",
        "\n",
        "    # Outer CV\n",
        "    nested_score_mlr_poly = cross_val_score(mlr_poly, \n",
        "                                        X=X_train, \n",
        "                                        y=y_train, \n",
        "                                        scoring='neg_mean_squared_error', # optimizes for MSE (see note below)\n",
        "                                        cv=10)\n",
        "    print(\"Nested R-squared value is: \", nested_score_mlr_poly.mean(), \" +/- \", 2*nested_score_mlr_poly.std())\n",
        "\n",
        "    ################################# FINAL EVALUATION ON THE TEST DATA  ##############################################\n",
        "    #------------------------------------------------------------------------------------------------------------------\n",
        "    print(\"GENERAL PERFORMANCE EVALUATION\\n=====================================================\")\n",
        "    y_train_pred = np.exp(mlr_poly.predict(X_poly)) - 1/3                               # apply model to train data (in sample performance)\n",
        "    y_test_pred = np.exp(mlr_poly.predict(poly.fit_transform(X_test))) - 1/3         # apply model to test data with the polynomial features (out of sample performance)\n",
        "\n",
        "    print('MSE train: %.3f, MSE test: %.3f' % ( # mean_absolute_error\n",
        "            mean_squared_error(y_train, y_train_pred),\n",
        "            mean_squared_error(y_test, y_test_pred)))  # y_test: Ground truth (correct) target values\n",
        "                                                    # y_test_pred: Estimated target values\n",
        "    print('MAE train: %.3f, MAE test: %.3f' % ( # mean_squared_error\n",
        "            mean_absolute_error(y_train, y_train_pred),\n",
        "            mean_absolute_error(y_test, y_test_pred))) # y_test: Ground truth (correct) target values\n",
        "                                                    # y_test_pred: Estimated target values"
      ],
      "metadata": {
        "colab": {
          "base_uri": "https://localhost:8080/",
          "height": 954
        },
        "id": "JldyYAwWkKtO",
        "outputId": "45527195-d155-4ad7-c55c-6f573deea7e3"
      },
      "execution_count": null,
      "outputs": [
        {
          "output_type": "stream",
          "name": "stdout",
          "text": [
            "\n",
            " POLYNOMIAL FEATURES: 1 \n",
            "=========================\n",
            "-0.32172040279751507\n",
            "{'fit_intercept': False}\n",
            "LinearRegression(fit_intercept=False)\n",
            "Nested R-squared value is:  -15041.280814773738  +/-  12264.88152070136\n",
            "GENERAL PERFORMANCE EVALUATION\n",
            "=====================================================\n",
            "MSE train: 15877.895, MSE test: 15804.910\n",
            "MAE train: 47.888, MAE test: 49.399\n",
            "\n",
            " POLYNOMIAL FEATURES: 2 \n",
            "=========================\n",
            "-10.37950046776972\n",
            "{'fit_intercept': False}\n",
            "LinearRegression(fit_intercept=False)\n",
            "Nested R-squared value is:  -15041.280814773738  +/-  12264.88152070136\n",
            "GENERAL PERFORMANCE EVALUATION\n",
            "=====================================================\n",
            "MSE train: 11338.870, MSE test: 18222.337\n",
            "MAE train: 41.332, MAE test: 52.920\n",
            "\n",
            " POLYNOMIAL FEATURES: 3 \n",
            "=========================\n",
            "-412228189329.8263\n",
            "{'fit_intercept': True}\n",
            "LinearRegression()\n",
            "Nested R-squared value is:  -15041.280814773738  +/-  12264.88152070136\n",
            "GENERAL PERFORMANCE EVALUATION\n",
            "=====================================================\n"
          ]
        },
        {
          "output_type": "stream",
          "name": "stderr",
          "text": [
            "/usr/local/lib/python3.7/dist-packages/ipykernel_launcher.py:49: RuntimeWarning: overflow encountered in exp\n"
          ]
        },
        {
          "output_type": "error",
          "ename": "ValueError",
          "evalue": "ignored",
          "traceback": [
            "\u001b[0;31m---------------------------------------------------------------------------\u001b[0m",
            "\u001b[0;31mValueError\u001b[0m                                Traceback (most recent call last)",
            "\u001b[0;32m<ipython-input-20-1fe1decc0a93>\u001b[0m in \u001b[0;36m<module>\u001b[0;34m\u001b[0m\n\u001b[1;32m     51\u001b[0m     print('MSE train: %.3f, MSE test: %.3f' % ( # mean_absolute_error\n\u001b[1;32m     52\u001b[0m             \u001b[0mmean_squared_error\u001b[0m\u001b[0;34m(\u001b[0m\u001b[0my_train\u001b[0m\u001b[0;34m,\u001b[0m \u001b[0my_train_pred\u001b[0m\u001b[0;34m)\u001b[0m\u001b[0;34m,\u001b[0m\u001b[0;34m\u001b[0m\u001b[0;34m\u001b[0m\u001b[0m\n\u001b[0;32m---> 53\u001b[0;31m             mean_squared_error(y_test, y_test_pred)))  # y_test: Ground truth (correct) target values\n\u001b[0m\u001b[1;32m     54\u001b[0m                                                     \u001b[0;31m# y_test_pred: Estimated target values\u001b[0m\u001b[0;34m\u001b[0m\u001b[0;34m\u001b[0m\u001b[0;34m\u001b[0m\u001b[0m\n\u001b[1;32m     55\u001b[0m     print('MAE train: %.3f, MAE test: %.3f' % ( # mean_squared_error\n",
            "\u001b[0;32m/usr/local/lib/python3.7/dist-packages/sklearn/metrics/_regression.py\u001b[0m in \u001b[0;36mmean_squared_error\u001b[0;34m(y_true, y_pred, sample_weight, multioutput, squared)\u001b[0m\n\u001b[1;32m    437\u001b[0m     \"\"\"\n\u001b[1;32m    438\u001b[0m     y_type, y_true, y_pred, multioutput = _check_reg_targets(\n\u001b[0;32m--> 439\u001b[0;31m         \u001b[0my_true\u001b[0m\u001b[0;34m,\u001b[0m \u001b[0my_pred\u001b[0m\u001b[0;34m,\u001b[0m \u001b[0mmultioutput\u001b[0m\u001b[0;34m\u001b[0m\u001b[0;34m\u001b[0m\u001b[0m\n\u001b[0m\u001b[1;32m    440\u001b[0m     )\n\u001b[1;32m    441\u001b[0m     \u001b[0mcheck_consistent_length\u001b[0m\u001b[0;34m(\u001b[0m\u001b[0my_true\u001b[0m\u001b[0;34m,\u001b[0m \u001b[0my_pred\u001b[0m\u001b[0;34m,\u001b[0m \u001b[0msample_weight\u001b[0m\u001b[0;34m)\u001b[0m\u001b[0;34m\u001b[0m\u001b[0;34m\u001b[0m\u001b[0m\n",
            "\u001b[0;32m/usr/local/lib/python3.7/dist-packages/sklearn/metrics/_regression.py\u001b[0m in \u001b[0;36m_check_reg_targets\u001b[0;34m(y_true, y_pred, multioutput, dtype)\u001b[0m\n\u001b[1;32m     94\u001b[0m     \u001b[0mcheck_consistent_length\u001b[0m\u001b[0;34m(\u001b[0m\u001b[0my_true\u001b[0m\u001b[0;34m,\u001b[0m \u001b[0my_pred\u001b[0m\u001b[0;34m)\u001b[0m\u001b[0;34m\u001b[0m\u001b[0;34m\u001b[0m\u001b[0m\n\u001b[1;32m     95\u001b[0m     \u001b[0my_true\u001b[0m \u001b[0;34m=\u001b[0m \u001b[0mcheck_array\u001b[0m\u001b[0;34m(\u001b[0m\u001b[0my_true\u001b[0m\u001b[0;34m,\u001b[0m \u001b[0mensure_2d\u001b[0m\u001b[0;34m=\u001b[0m\u001b[0;32mFalse\u001b[0m\u001b[0;34m,\u001b[0m \u001b[0mdtype\u001b[0m\u001b[0;34m=\u001b[0m\u001b[0mdtype\u001b[0m\u001b[0;34m)\u001b[0m\u001b[0;34m\u001b[0m\u001b[0;34m\u001b[0m\u001b[0m\n\u001b[0;32m---> 96\u001b[0;31m     \u001b[0my_pred\u001b[0m \u001b[0;34m=\u001b[0m \u001b[0mcheck_array\u001b[0m\u001b[0;34m(\u001b[0m\u001b[0my_pred\u001b[0m\u001b[0;34m,\u001b[0m \u001b[0mensure_2d\u001b[0m\u001b[0;34m=\u001b[0m\u001b[0;32mFalse\u001b[0m\u001b[0;34m,\u001b[0m \u001b[0mdtype\u001b[0m\u001b[0;34m=\u001b[0m\u001b[0mdtype\u001b[0m\u001b[0;34m)\u001b[0m\u001b[0;34m\u001b[0m\u001b[0;34m\u001b[0m\u001b[0m\n\u001b[0m\u001b[1;32m     97\u001b[0m \u001b[0;34m\u001b[0m\u001b[0m\n\u001b[1;32m     98\u001b[0m     \u001b[0;32mif\u001b[0m \u001b[0my_true\u001b[0m\u001b[0;34m.\u001b[0m\u001b[0mndim\u001b[0m \u001b[0;34m==\u001b[0m \u001b[0;36m1\u001b[0m\u001b[0;34m:\u001b[0m\u001b[0;34m\u001b[0m\u001b[0;34m\u001b[0m\u001b[0m\n",
            "\u001b[0;32m/usr/local/lib/python3.7/dist-packages/sklearn/utils/validation.py\u001b[0m in \u001b[0;36mcheck_array\u001b[0;34m(array, accept_sparse, accept_large_sparse, dtype, order, copy, force_all_finite, ensure_2d, allow_nd, ensure_min_samples, ensure_min_features, estimator)\u001b[0m\n\u001b[1;32m    798\u001b[0m \u001b[0;34m\u001b[0m\u001b[0m\n\u001b[1;32m    799\u001b[0m         \u001b[0;32mif\u001b[0m \u001b[0mforce_all_finite\u001b[0m\u001b[0;34m:\u001b[0m\u001b[0;34m\u001b[0m\u001b[0;34m\u001b[0m\u001b[0m\n\u001b[0;32m--> 800\u001b[0;31m             \u001b[0m_assert_all_finite\u001b[0m\u001b[0;34m(\u001b[0m\u001b[0marray\u001b[0m\u001b[0;34m,\u001b[0m \u001b[0mallow_nan\u001b[0m\u001b[0;34m=\u001b[0m\u001b[0mforce_all_finite\u001b[0m \u001b[0;34m==\u001b[0m \u001b[0;34m\"allow-nan\"\u001b[0m\u001b[0;34m)\u001b[0m\u001b[0;34m\u001b[0m\u001b[0;34m\u001b[0m\u001b[0m\n\u001b[0m\u001b[1;32m    801\u001b[0m \u001b[0;34m\u001b[0m\u001b[0m\n\u001b[1;32m    802\u001b[0m     \u001b[0;32mif\u001b[0m \u001b[0mensure_min_samples\u001b[0m \u001b[0;34m>\u001b[0m \u001b[0;36m0\u001b[0m\u001b[0;34m:\u001b[0m\u001b[0;34m\u001b[0m\u001b[0;34m\u001b[0m\u001b[0m\n",
            "\u001b[0;32m/usr/local/lib/python3.7/dist-packages/sklearn/utils/validation.py\u001b[0m in \u001b[0;36m_assert_all_finite\u001b[0;34m(X, allow_nan, msg_dtype)\u001b[0m\n\u001b[1;32m    114\u001b[0m             raise ValueError(\n\u001b[1;32m    115\u001b[0m                 msg_err.format(\n\u001b[0;32m--> 116\u001b[0;31m                     \u001b[0mtype_err\u001b[0m\u001b[0;34m,\u001b[0m \u001b[0mmsg_dtype\u001b[0m \u001b[0;32mif\u001b[0m \u001b[0mmsg_dtype\u001b[0m \u001b[0;32mis\u001b[0m \u001b[0;32mnot\u001b[0m \u001b[0;32mNone\u001b[0m \u001b[0;32melse\u001b[0m \u001b[0mX\u001b[0m\u001b[0;34m.\u001b[0m\u001b[0mdtype\u001b[0m\u001b[0;34m\u001b[0m\u001b[0;34m\u001b[0m\u001b[0m\n\u001b[0m\u001b[1;32m    117\u001b[0m                 )\n\u001b[1;32m    118\u001b[0m             )\n",
            "\u001b[0;31mValueError\u001b[0m: Input contains NaN, infinity or a value too large for dtype('float64')."
          ]
        }
      ]
    },
    {
      "cell_type": "markdown",
      "source": [
        "#### b.2 Feature engineering for kNN Regression"
      ],
      "metadata": {
        "id": "66nGO0xHdzug"
      }
    },
    {
      "cell_type": "code",
      "source": [
        "##################################### Optimize kNN Regressor Example       #####################################\n",
        "# Pipeline of transforms with a final estimator\n",
        "from sklearn.neighbors import KNeighborsRegressor\n",
        "from sklearn.pipeline import Pipeline\n",
        "from sklearn.model_selection import GridSearchCV, KFold\n",
        "from sklearn.preprocessing import MinMaxScaler\n",
        "from math import sqrt\n",
        "import numpy as np\n",
        "\n",
        "\n",
        "# KFold splits dataset into k consecutive folds (without shuffling by default)\n",
        "inner_cv = KFold(n_splits=10, shuffle=True)  \n",
        "outer_cv = KFold(n_splits=10, shuffle=True)\n",
        "                                                           \n",
        "#normalize data with min max scaling\n",
        "sc = MinMaxScaler(feature_range=(0, 1))\n",
        "sc.fit(X)                                 # scaling parameters to be learned for later scaling\n",
        "\n",
        "x_scaled = sc.transform(X)\n",
        "x_sc = pd.DataFrame(x_scaled)\n",
        "\n",
        "\n",
        "#3NN regressor\n",
        "knn_regressor = neighbors.KNeighborsRegressor(n_neighbors = 8, p=2)     # euclidean_distance for p = 2\n",
        "\n",
        "#Fit and Evaluate Model\n",
        "knn_regressor.fit(x_sc, y)        # fit the model\n",
        "#pred=knn_regressor.predict(x_test_sc)         # make prediction on test set\n",
        "#error = sqrt(mean_squared_error(y_test,np.exp(pred)-1/3)) # calculate rmse on test set\n",
        "\n",
        "#print('RMSE value is:', error)\n",
        "\n",
        "# Outer CV\n",
        "nested_score_knn = cross_val_score(knn_regressor, \n",
        "                                       X=x_sc, \n",
        "                                       y=y_log, \n",
        "                                       scoring='neg_mean_squared_error', # optimizes for MSE (see note below)\n",
        "                                       cv=outer_cv)\n",
        "\n",
        "print(\"Nested neg_mean_squared_error value is: \", nested_score_knn.mean(), \" +/- \", nested_score_knn.std())\n",
        "\n",
        "#np.exp(nested_score_knn.mean()) -1/3, \" +/- \", (np.exp(nested_score_knn.std()) - 1/3)*2)\n",
        "\n"
      ],
      "metadata": {
        "colab": {
          "base_uri": "https://localhost:8080/"
        },
        "id": "oTUm8RLIp2sg",
        "outputId": "087a9400-313f-49f2-dfcf-847b5c6c9094"
      },
      "execution_count": 13,
      "outputs": [
        {
          "output_type": "stream",
          "name": "stdout",
          "text": [
            "Nested neg_mean_squared_error value is:  -0.6264397558617283  +/-  0.11943254836863998\n"
          ]
        }
      ]
    },
    {
      "cell_type": "code",
      "source": [
        "##################################### Optimize kNN Regressor Example       #####################################\n",
        "# Pipeline of transforms with a final estimator\n",
        "from sklearn.neighbors import KNeighborsRegressor\n",
        "from sklearn.pipeline import Pipeline\n",
        "from sklearn.model_selection import GridSearchCV, KFold\n",
        "from sklearn.preprocessing import MinMaxScaler\n",
        "from math import sqrt\n",
        "import numpy as np\n",
        "\n",
        "\n",
        "# KFold splits dataset into k consecutive folds (without shuffling by default)\n",
        "inner_cv = KFold(n_splits=10, shuffle=True)  \n",
        "outer_cv = KFold(n_splits=10, shuffle=True)\n",
        "                                                           \n",
        "#split dataset into train and test data\n",
        "X_train, X_test, y_train, y_test = train_test_split(X, \n",
        "                                                    y, \n",
        "                                                    test_size=0.3, \n",
        "                                                    random_state=42)\n",
        "\n",
        "#normalize data with min max scaling\n",
        "sc = MinMaxScaler(feature_range=(0, 1))\n",
        "sc.fit(X_train)                                 # scaling parameters to be learned for later scaling\n",
        "\n",
        "x_train_scaled = sc.transform(X_train)          # scaling of features in train data    \n",
        "x_train_sc = pd.DataFrame(x_train_scaled)       # constructing dataFrame\n",
        "\n",
        "x_test_scaled = sc.transform(X_test)            # scaling of features in test data \n",
        "x_test_sc = pd.DataFrame(x_test_scaled)         # constructing dataFrame\n",
        "\n",
        "#3NN regressor\n",
        "knn_regressor = neighbors.KNeighborsRegressor(n_neighbors = 8, p=2)     # euclidean_distance for p = 2\n",
        "\n",
        "#Fit and Evaluate Model\n",
        "knn_regressor.fit(x_train_sc, y_train_log)        # fit the model\n",
        "pred=knn_regressor.predict(x_test_sc)         # make prediction on test set\n",
        "error = sqrt(mean_squared_error(y_test,np.exp(pred)-1/3)) # calculate rmse on test set\n",
        "\n",
        "print('RMSE value is:', error)\n",
        "\n",
        "# Outer CV\n",
        "nested_score_knn = cross_val_score(knn_regressor, \n",
        "                                       X=x_train_sc, \n",
        "                                       y=y_train_log, \n",
        "                                       scoring='neg_mean_squared_error', # optimizes for MSE (see note below)\n",
        "                                       cv=outer_cv)\n",
        "print(\"Nested MSE value is: \", np.exp(nested_score_knn.mean()) -1/3, \" +/- \", (np.exp(nested_score_knn.std()) - 1/3)*2)\n",
        "\n",
        "################################# FINAL EVALUATION ON THE TEST DATA  ##############################################\n",
        "#------------------------------------------------------------------------------------------------------------------\n",
        "print(\"GENERAL PERFORMANCE EVALUATION\\n=====================================================\")\n",
        "y_train_pred = np.exp(knn_regressor.predict(x_train_sc)) - 1/3                            # apply model to train data (in sample performance)\n",
        "y_test_pred = np.exp(knn_regressor.predict(x_test_sc)) - 1/3         # apply model to test data (out of sample performance)\n",
        "\n",
        "print('MSE train: %.3f, MSE test: %.3f' % ( # mean_absolute_error\n",
        "        mean_squared_error(y_train, y_train_pred),\n",
        "        mean_squared_error(y_test, y_test_pred)))  # y_test: Ground truth (correct) target values\n",
        "                                                # y_test_pred: Estimated target values\n",
        "print('MAE train: %.3f, MAE test: %.3f' % ( # mean_squared_error\n",
        "        mean_absolute_error(y_train, y_train_pred),\n",
        "        mean_absolute_error(y_test, y_test_pred))) # y_test: Ground truth (correct) target values\n",
        "                                                # y_test_pred: Estimated target values"
      ],
      "metadata": {
        "id": "Szrh45pAd0GN",
        "colab": {
          "base_uri": "https://localhost:8080/"
        },
        "outputId": "38a79d9f-5cd8-46b2-b60d-e6d225626c6c"
      },
      "execution_count": null,
      "outputs": [
        {
          "output_type": "stream",
          "name": "stdout",
          "text": [
            "RMSE value is: 150.70042786532494\n",
            "Nested MSE value is:  0.11199940626475496  +/-  1.8505215604539673\n",
            "GENERAL PERFORMANCE EVALUATION\n",
            "=====================================================\n",
            "MSE train: 21556.789, MSE test: 22710.619\n",
            "MAE train: 55.809, MAE test: 62.027\n"
          ]
        }
      ]
    },
    {
      "cell_type": "markdown",
      "source": [
        "#### b.3 Feature engineering for Decision Tree Regression"
      ],
      "metadata": {
        "id": "nfIfw9O9mmLt"
      }
    },
    {
      "cell_type": "code",
      "source": [
        "#################################### Regressor Tree - Nested CV      ####################################\n",
        "\n",
        "# Find optimal paramater for DecisionTreeRegressor with GridSearchCV\n",
        "from sklearn.model_selection import KFold\n",
        "from sklearn.tree import DecisionTreeRegressor\n",
        "\n",
        "# KFold splits dataset into k consecutive folds (without shuffling by default)\n",
        "inner_cv = KFold(n_splits=10, shuffle=True, random_state=42)  \n",
        "outer_cv = KFold(n_splits=10, shuffle=True, random_state=42)\n",
        "\n",
        "# Find the max_depth and max_features that minimizes MSE\n",
        "# Inner CV\n",
        "dt = DecisionTreeRegressor(random_state=42)\n",
        "dt.fit(x_sc, y_log)                                # fit model\n",
        "\n",
        "# Outer CV\n",
        "nested_score_dt = cross_val_score(dt, \n",
        "                                       X=x_sc, \n",
        "                                       y=y_log, \n",
        "                                       scoring='neg_mean_squared_error', # optimizes for MSE (see note below)\n",
        "                                       cv=outer_cv)\n",
        "print(\"Nested MSE value for log-transofrmed data is: \", nested_score_dt.mean(), \" +/- \", nested_score_dt.std()*2)\n"
      ],
      "metadata": {
        "colab": {
          "base_uri": "https://localhost:8080/"
        },
        "id": "FMLIr3Onp7Ya",
        "outputId": "b6b5338a-e3ab-4801-961e-7c89a1fbf739"
      },
      "execution_count": 14,
      "outputs": [
        {
          "output_type": "stream",
          "name": "stdout",
          "text": [
            "Nested MSE value for log-transofrmed data is:  -0.5510108963682656  +/-  0.10999716507347168\n"
          ]
        }
      ]
    },
    {
      "cell_type": "code",
      "source": [
        "#################################### Regressor Tree - Nested CV      ####################################\n",
        "\n",
        "# Find optimal paramater for DecisionTreeRegressor with GridSearchCV\n",
        "from sklearn.model_selection import KFold\n",
        "from sklearn.tree import DecisionTreeRegressor\n",
        "\n",
        "# KFold splits dataset into k consecutive folds (without shuffling by default)\n",
        "inner_cv = KFold(n_splits=10, shuffle=True, random_state=42)  \n",
        "outer_cv = KFold(n_splits=10, shuffle=True, random_state=42)\n",
        "\n",
        "# Find the max_depth and max_features that minimizes MSE\n",
        "# Inner CV\n",
        "dt = DecisionTreeRegressor(random_state=42)\n",
        "dt.fit(x_train_sc, y_train_log)                                # fit model\n",
        "\n",
        "# Outer CV\n",
        "nested_score_dt = cross_val_score(dt, \n",
        "                                       X=x_train_sc, \n",
        "                                       y=y_train_log, \n",
        "                                       scoring='neg_mean_squared_error', # optimizes for MSE (see note below)\n",
        "                                       cv=outer_cv)\n",
        "print(\"Nested MSE value for log-transofrmed data is: \", nested_score_dt.mean(), \" +/- \", nested_score_dt.std()*2)\n",
        "\n",
        "################################# FINAL EVALUATION ON THE TEST DATA  ##############################################\n",
        "#------------------------------------------------------------------------------------------------------------------\n",
        "print(\"GENERAL PERFORMANCE EVALUATION\\n=====================================================\")\n",
        "y_train_pred = np.exp(dt.predict(x_train_sc)) - 1/3                            # apply model to train data (in sample performance)\n",
        "y_test_pred = np.exp(dt.predict(x_test_sc)) - 1/3         # apply model to test data (out of sample performance)\n",
        "\n",
        "print('MSE train: %.3f, MSE test: %.3f' % ( # mean_absolute_error\n",
        "        mean_squared_error(y_train, y_train_pred),\n",
        "        mean_squared_error(y_test, y_test_pred)))  # y_test: Ground truth (correct) target values\n",
        "                                                # y_test_pred: Estimated target values\n",
        "print('MAE train: %.3f, MAE test: %.3f' % ( # mean_squared_error\n",
        "        mean_absolute_error(y_train, y_train_pred),\n",
        "        mean_absolute_error(y_test, y_test_pred))) # y_test: Ground truth (correct) target values\n",
        "                                                # y_test_pred: Estimated target values"
      ],
      "metadata": {
        "id": "doEr5t4_mm-S",
        "colab": {
          "base_uri": "https://localhost:8080/"
        },
        "outputId": "0716f558-38a6-467d-8ff3-030fcf803346"
      },
      "execution_count": null,
      "outputs": [
        {
          "output_type": "stream",
          "name": "stdout",
          "text": [
            "Nested MSE value for log-transofrmed data is:  -0.587154554315627  +/-  0.3899066597628915\n",
            "GENERAL PERFORMANCE EVALUATION\n",
            "=====================================================\n",
            "MSE train: 1.125, MSE test: 24919.922\n",
            "MAE train: 0.040, MAE test: 66.612\n"
          ]
        }
      ]
    },
    {
      "cell_type": "markdown",
      "source": [
        "### C. Hyperparamter tuning"
      ],
      "metadata": {
        "id": "3q4m7tifEpzG"
      }
    },
    {
      "cell_type": "markdown",
      "source": [
        "#### c.1 Hyperparameter tuning for linear regression"
      ],
      "metadata": {
        "id": "HF-APJb1eOyg"
      }
    },
    {
      "cell_type": "code",
      "source": [
        "from sklearn.metrics import mean_absolute_error, mean_squared_error\n",
        "# A linear regression with multiple features\n",
        "# multiple linear regression class\n",
        "\n",
        "inner_cv = KFold(n_splits=10, shuffle=True, random_state=42) \n",
        "parameters={'fit_intercept':[True, False]}\n",
        "            #'normalize':[True, False]}  #This parameter is ignored when fit_intercept is set to False. \n",
        "                                        # If True, the regressors X will be normalized before regression by subtracting the mean and dividing by the l2-norm. \n",
        "\n",
        "mlr = GridSearchCV(LinearRegression(n_jobs=-1),  # GridSearchCV\n",
        "                     parameters,\n",
        "                     scoring='neg_mean_squared_error',              # optimizes for MSE \n",
        "                     n_jobs=4, \n",
        "                     cv=inner_cv) \n",
        "    \n",
        "mlr.fit(X_train, y_train_log)\n",
        "\n",
        "#Outer CV\n",
        "scores = cross_val_score(mlr,                                              # cross-validation scores\n",
        "                         X_train, \n",
        "                         y_train_log, \n",
        "                         cv=10)                                         # fit model to the data\n",
        "\n",
        "mlr = mlr.best_estimator_\n",
        "print(f\"Slopes:\\n {mlr.coef_}\")                   # estimated coefficients for the linear regression model\n",
        "print(f\"Intercept:\\n {mlr.intercept_}\")             # estimated intercept for the linear regression model\n",
        "print(f\"\\n Cross Validation Scores(R-squares):\\n{scores}\\n\")\n",
        "print(\"\\n Statistics of Cross Validation Performance: %0.2f (+/- %0.2f)\" % (scores.mean(), scores.std()*2)) # estimate mean and variance from cross validation metrics\n",
        "\n",
        "################################# FINAL EVALUATION ON THE TEST DATA  ##############################################\n",
        "#------------------------------------------------------------------------------------------------------------------\n",
        "print(\"GENERAL PERFORMANCE EVALUATION\\n=====================================================\")\n",
        "y_train_pred = np.exp(mlr.predict(X_train)) - 1/3                   # apply model to train data (in sample performance)\n",
        "y_test_pred = np.exp(mlr.predict(X_test)) - 1/3                     # apply model to test data (out of sample performance)\n",
        "\n",
        "print('MSE train: %.3f, MSE test: %.3f' % ( # mean_absolute_error\n",
        "        mean_squared_error(y_train, y_train_pred),\n",
        "        mean_squared_error(y_test, y_test_pred)))  # y_test: Ground truth (correct) target values\n",
        "                                                   # y_test_pred: Estimated target values\n",
        "print('MAE train: %.3f, MAE test: %.3f' % ( # mean_squared_error\n",
        "        mean_absolute_error(y_train, y_train_pred),\n",
        "        mean_absolute_error(y_test, y_test_pred))) # y_test: Ground truth (correct) target values\n",
        "                                                   # y_test_pred: Estimated target values"
      ],
      "metadata": {
        "id": "S3yRdX1Ec_bA",
        "colab": {
          "base_uri": "https://localhost:8080/"
        },
        "outputId": "856fe976-70b6-4df7-9317-29c6448e76af"
      },
      "execution_count": null,
      "outputs": [
        {
          "output_type": "stream",
          "name": "stdout",
          "text": [
            "Slopes:\n",
            " [-7.09092798e-02  9.61846804e-02 -1.49290821e-01  2.74652949e-02\n",
            " -2.17630856e-02 -5.68251469e-02 -1.35239749e-02 -2.59919958e-02\n",
            " -3.34595814e-01  4.87361281e-02 -2.23708107e-01  2.88278224e-02\n",
            " -7.29000950e-02 -1.86521219e-01 -5.87545987e-02 -1.78370053e-02\n",
            "  2.04283940e-01 -6.34732750e-02 -1.09952308e-02 -5.08563129e-03\n",
            " -1.52331042e-01  5.50838185e+00  3.62623253e-02]\n",
            "Intercept:\n",
            " -0.5284955790794803\n",
            "\n",
            " Cross Validation Scores(R-squares):\n",
            "[-0.35882675 -0.29797386 -0.3931856  -0.27323076 -0.35558566 -0.33099814\n",
            " -0.15321666 -0.35889326 -0.34347557 -0.33582459]\n",
            "\n",
            "\n",
            " Statistics of Cross Validation Performance: -0.32 (+/- 0.13)\n",
            "GENERAL PERFORMANCE EVALUATION\n",
            "=====================================================\n",
            "MSE train: 15877.895, MSE test: 15804.910\n",
            "MAE train: 47.888, MAE test: 49.399\n"
          ]
        }
      ]
    },
    {
      "cell_type": "markdown",
      "source": [
        "### c.2 Hyperparameter tuning for kNN regression"
      ],
      "metadata": {
        "id": "PGei1EoKm_pj"
      }
    },
    {
      "cell_type": "code",
      "source": [
        "##################################### Optimize kNN Regressor Example       #####################################\n",
        "# Pipeline of transforms with a final estimator\n",
        "from sklearn.neighbors import KNeighborsRegressor\n",
        "from sklearn.pipeline import Pipeline\n",
        "from sklearn.model_selection import GridSearchCV, KFold\n",
        "\n",
        "\n",
        "# KFold splits dataset into k consecutive folds (without shuffling by default)\n",
        "inner_cv = KFold(n_splits=5, shuffle=True)  \n",
        "outer_cv = KFold(n_splits=5, shuffle=True)\n",
        "\n",
        "\n",
        "params = {'knn__n_neighbors':[1, 2, 3, 4, 5, 6, 7, 8, 9, 10, 11, 12, 13, 14, 15], \n",
        "          'knn__p':[1,2]}                                  # when p = 1, this is equivalent to using manhattan_distance (l1), \n",
        "                                                           # and euclidean_distance for p = 2\n",
        "pipe = Pipeline([\n",
        "        ('knn', KNeighborsRegressor()) \n",
        "      ])\n",
        "\n",
        "# Inner CV\n",
        "knn2_optk = GridSearchCV(pipe, \n",
        "                         params, \n",
        "                         cv=inner_cv,\n",
        "                         scoring='neg_mean_squared_error',              # optimizes for MSE (see note below)\n",
        "                         n_jobs=-1)\n",
        "knn2_optk.fit(X_train,y_train_log)\n",
        "\n",
        "print(knn2_optk.best_score_)\n",
        "print(knn2_optk.best_params_)\n",
        "print(knn2_optk.best_estimator_)\n",
        "\n",
        "print('Non-nested R-squared value is:', knn2_optk.best_score_)\n",
        "\n",
        "# Outer CV\n",
        "nested_score_knn2_optk = cross_val_score(knn2_optk, \n",
        "                                       X=X_train, \n",
        "                                       y=y_train_log, \n",
        "                                       scoring='neg_mean_squared_error', # optimizes for MSE\n",
        "                                       cv=outer_cv)\n",
        "print(\"Nested R-squared value is: \", nested_score_knn2_optk.mean(), \" +/- \", nested_score_knn2_optk.std()*2)\n",
        "\n",
        "################################# FINAL EVALUATION ON THE TEST DATA  ##############################################\n",
        "#------------------------------------------------------------------------------------------------------------------\n",
        "print(\"GENERAL PERFORMANCE EVALUATION\\n=====================================================\")\n",
        "y_train_pred = np.exp(knn2_optk.predict(X_train)) - 1/3                   # apply model to train data (in sample performance)\n",
        "y_test_pred = np.exp(knn2_optk.predict(X_test)) - 1/3                     # apply model to test data (out of sample performance)\n",
        "\n",
        "print('MSE train: %.3f, MSE test: %.3f' % ( # mean_absolute_error\n",
        "        mean_squared_error(y_train, y_train_pred),\n",
        "        mean_squared_error(y_test, y_test_pred)))  # y_test: Ground truth (correct) target values\n",
        "                                                   # y_test_pred: Estimated target values\n",
        "print('MAE train: %.3f, MAE test: %.3f' % ( # mean_squared_error\n",
        "        mean_absolute_error(y_train, y_train_pred),\n",
        "        mean_absolute_error(y_test, y_test_pred))) # y_test: Ground truth (correct) target values\n",
        "                                                   # y_test_pred: Estimated target values"
      ],
      "metadata": {
        "id": "_dYMjAyFm9eG",
        "colab": {
          "base_uri": "https://localhost:8080/"
        },
        "outputId": "79e4bcf3-b898-4d69-a65a-dc4f030d6fa3"
      },
      "execution_count": null,
      "outputs": [
        {
          "output_type": "stream",
          "name": "stdout",
          "text": [
            "-1.2334203025984045\n",
            "{'knn__n_neighbors': 6, 'knn__p': 1}\n",
            "Pipeline(steps=[('knn', KNeighborsRegressor(n_neighbors=6, p=1))])\n",
            "Non-nested R-squared value is: -1.2334203025984045\n",
            "Nested R-squared value is:  -1.2834325552159722  +/-  0.19344473120113967\n",
            "GENERAL PERFORMANCE EVALUATION\n",
            "=====================================================\n",
            "MSE train: 13562.701, MSE test: 17717.465\n",
            "MAE train: 47.452, MAE test: 56.164\n"
          ]
        }
      ]
    },
    {
      "cell_type": "markdown",
      "source": [
        "### c.3 Hyperparaeter tuning for Decision Tree Regression"
      ],
      "metadata": {
        "id": "dXr3PPUr7WlA"
      }
    },
    {
      "cell_type": "code",
      "source": [
        "#################################### Regressor Tree - Nested CV      ####################################\n",
        "\n",
        "# Find optimal paramater for DecisionTreeRegressor with GridSearchCV\n",
        "from sklearn.model_selection import GridSearchCV, KFold\n",
        "from sklearn.tree import DecisionTreeRegressor\n",
        "\n",
        "# KFold splits dataset into k consecutive folds (without shuffling by default)\n",
        "inner_cv = KFold(n_splits=10, shuffle=True, random_state=42)  \n",
        "outer_cv = KFold(n_splits=10, shuffle=True, random_state=42)\n",
        "\n",
        "# Find the max_depth that minimizes MSE\n",
        "# Inner CV\n",
        "parameters = {'max_depth': range(3,20),                     # range of parameters for the depth of the tree\n",
        "              'max_features':range(1, new_df.shape[1])}            # Try enforcing number of max features contributing to the decision tree\n",
        "gs_dt = GridSearchCV(DecisionTreeRegressor(random_state=42),  # GridSearchCV\n",
        "                     parameters,\n",
        "                     scoring='neg_mean_squared_error', # optimizes for MSE+ \n",
        "                     n_jobs=4, \n",
        "                     cv=inner_cv) \n",
        "gs_dt.fit(X_train, y_train_log)                                # fit model\n",
        "\n",
        "gs_dt = gs_dt.fit(X_train,y_train_log)\n",
        "print(\" Parameter Tuning\")\n",
        "print(\"Non-nested Performance: \", gs_dt.best_score_)\n",
        "print(\"Optimal Parameter: \", gs_dt.best_params_)    # parameter setting that gave the best results on the inner cross-validation\n",
        "print(\"Optimal Estimator: \", gs_dt.best_estimator_) # estimator that was chosen by the search, i.e. estimator which gave best score\n",
        "\n",
        "# Outer CV\n",
        "nested_score_gs_dt = cross_val_score(gs_dt,         # estimate generalization performance (outer cross-validation)\n",
        "                                     X=X_train, \n",
        "                                     y=y_train_log,\n",
        "                                     scoring='neg_mean_squared_error', # optimizes for MSE+ \n",
        "                                     cv=outer_cv)  \n",
        "print(\"Nested CV Performance: \",nested_score_gs_dt.mean(), \" +/- \", nested_score_gs_dt.std())\n",
        "\n",
        "################################# FINAL EVALUATION ON THE TEST DATA  ##############################################\n",
        "#------------------------------------------------------------------------------------------------------------------\n",
        "print(\"GENERAL PERFORMANCE EVALUATION\\n=====================================================\")\n",
        "y_train_pred = np.exp(gs_dt.predict(X_train)) - 1/3                   # apply model to train data (in sample performance)\n",
        "y_test_pred = np.exp(gs_dt.predict(X_test)) - 1/3                     # apply model to test data (out of sample performance)\n",
        "\n",
        "print('MSE train: %.3f, MSE test: %.3f' % ( # mean_absolute_error\n",
        "        mean_squared_error(y_train, y_train_pred),\n",
        "        mean_squared_error(y_test, y_test_pred)))  # y_test: Ground truth (correct) target values\n",
        "                                                   # y_test_pred: Estimated target values\n",
        "print('MAE train: %.3f, MAE test: %.3f' % ( # mean_squared_error\n",
        "        mean_absolute_error(y_train, y_train_pred),\n",
        "        mean_absolute_error(y_test, y_test_pred))) # y_test: Ground truth (correct) target values\n",
        "                                                   # y_test_pred: Estimated target values"
      ],
      "metadata": {
        "id": "6VCOLWWd7UFw",
        "colab": {
          "base_uri": "https://localhost:8080/"
        },
        "outputId": "b346d508-d83a-470c-9bfe-101db70c219b"
      },
      "execution_count": null,
      "outputs": [
        {
          "output_type": "stream",
          "name": "stdout",
          "text": [
            " Parameter Tuning\n",
            "Non-nested Performance:  -0.3238884409117332\n",
            "Optimal Parameter:  {'max_depth': 5, 'max_features': 14}\n",
            "Optimal Estimator:  DecisionTreeRegressor(max_depth=5, max_features=14, random_state=42)\n",
            "Nested CV Performance:  -0.3438943686361674  +/-  0.08957798534080867\n",
            "GENERAL PERFORMANCE EVALUATION\n",
            "=====================================================\n",
            "MSE train: 12705.363, MSE test: 16129.248\n",
            "MAE train: 45.467, MAE test: 49.821\n"
          ]
        }
      ]
    },
    {
      "cell_type": "code",
      "source": [],
      "metadata": {
        "id": "_OckW8KgvawE"
      },
      "execution_count": null,
      "outputs": []
    }
  ]
}